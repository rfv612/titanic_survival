{
 "cells": [
  {
   "cell_type": "code",
   "execution_count": 1,
   "id": "simplified-action",
   "metadata": {
    "_cell_guid": "b1076dfc-b9ad-4769-8c92-a6c4dae69d19",
    "_uuid": "8f2839f25d086af736a60e9eeb907d3b93b6e0e5",
    "execution": {
     "iopub.execute_input": "2021-05-19T13:59:14.889748Z",
     "iopub.status.busy": "2021-05-19T13:59:14.885995Z",
     "iopub.status.idle": "2021-05-19T13:59:15.845846Z",
     "shell.execute_reply": "2021-05-19T13:59:15.844678Z"
    },
    "papermill": {
     "duration": 1.004528,
     "end_time": "2021-05-19T13:59:15.846116",
     "exception": false,
     "start_time": "2021-05-19T13:59:14.841588",
     "status": "completed"
    },
    "tags": []
   },
   "outputs": [
    {
     "name": "stdout",
     "output_type": "stream",
     "text": [
      "/kaggle/input/titanic/train.csv\n",
      "/kaggle/input/titanic/test.csv\n",
      "/kaggle/input/titanic/gender_submission.csv\n"
     ]
    }
   ],
   "source": [
    "\n",
    "import numpy as np # linear algebra\n",
    "import pandas as pd # data processing, CSV file I/O (e.g. pd.read_csv)\n",
    "\n",
    "import matplotlib.pyplot as plt\n",
    "%matplotlib inline\n",
    "import seaborn as sns"
   ]
  },
  {
   "cell_type": "code",
   "execution_count": 2,
   "id": "retained-circumstances",
   "metadata": {
    "execution": {
     "iopub.execute_input": "2021-05-19T13:59:15.924966Z",
     "iopub.status.busy": "2021-05-19T13:59:15.924485Z",
     "iopub.status.idle": "2021-05-19T13:59:15.981513Z",
     "shell.execute_reply": "2021-05-19T13:59:15.981085Z"
    },
    "papermill": {
     "duration": 0.097812,
     "end_time": "2021-05-19T13:59:15.981626",
     "exception": false,
     "start_time": "2021-05-19T13:59:15.883814",
     "status": "completed"
    },
    "tags": []
   },
   "outputs": [
    {
     "data": {
      "text/html": [
       "<div>\n",
       "<style scoped>\n",
       "    .dataframe tbody tr th:only-of-type {\n",
       "        vertical-align: middle;\n",
       "    }\n",
       "\n",
       "    .dataframe tbody tr th {\n",
       "        vertical-align: top;\n",
       "    }\n",
       "\n",
       "    .dataframe thead th {\n",
       "        text-align: right;\n",
       "    }\n",
       "</style>\n",
       "<table border=\"1\" class=\"dataframe\">\n",
       "  <thead>\n",
       "    <tr style=\"text-align: right;\">\n",
       "      <th></th>\n",
       "      <th>Survived</th>\n",
       "      <th>Pclass</th>\n",
       "      <th>Name</th>\n",
       "      <th>Sex</th>\n",
       "      <th>Age</th>\n",
       "      <th>SibSp</th>\n",
       "      <th>Parch</th>\n",
       "      <th>Ticket</th>\n",
       "      <th>Fare</th>\n",
       "      <th>Cabin</th>\n",
       "      <th>Embarked</th>\n",
       "    </tr>\n",
       "    <tr>\n",
       "      <th>PassengerId</th>\n",
       "      <th></th>\n",
       "      <th></th>\n",
       "      <th></th>\n",
       "      <th></th>\n",
       "      <th></th>\n",
       "      <th></th>\n",
       "      <th></th>\n",
       "      <th></th>\n",
       "      <th></th>\n",
       "      <th></th>\n",
       "      <th></th>\n",
       "    </tr>\n",
       "  </thead>\n",
       "  <tbody>\n",
       "    <tr>\n",
       "      <th>1</th>\n",
       "      <td>0</td>\n",
       "      <td>3</td>\n",
       "      <td>Braund, Mr. Owen Harris</td>\n",
       "      <td>male</td>\n",
       "      <td>22.0</td>\n",
       "      <td>1</td>\n",
       "      <td>0</td>\n",
       "      <td>A/5 21171</td>\n",
       "      <td>7.2500</td>\n",
       "      <td>NaN</td>\n",
       "      <td>S</td>\n",
       "    </tr>\n",
       "    <tr>\n",
       "      <th>2</th>\n",
       "      <td>1</td>\n",
       "      <td>1</td>\n",
       "      <td>Cumings, Mrs. John Bradley (Florence Briggs Th...</td>\n",
       "      <td>female</td>\n",
       "      <td>38.0</td>\n",
       "      <td>1</td>\n",
       "      <td>0</td>\n",
       "      <td>PC 17599</td>\n",
       "      <td>71.2833</td>\n",
       "      <td>C85</td>\n",
       "      <td>C</td>\n",
       "    </tr>\n",
       "    <tr>\n",
       "      <th>3</th>\n",
       "      <td>1</td>\n",
       "      <td>3</td>\n",
       "      <td>Heikkinen, Miss. Laina</td>\n",
       "      <td>female</td>\n",
       "      <td>26.0</td>\n",
       "      <td>0</td>\n",
       "      <td>0</td>\n",
       "      <td>STON/O2. 3101282</td>\n",
       "      <td>7.9250</td>\n",
       "      <td>NaN</td>\n",
       "      <td>S</td>\n",
       "    </tr>\n",
       "    <tr>\n",
       "      <th>4</th>\n",
       "      <td>1</td>\n",
       "      <td>1</td>\n",
       "      <td>Futrelle, Mrs. Jacques Heath (Lily May Peel)</td>\n",
       "      <td>female</td>\n",
       "      <td>35.0</td>\n",
       "      <td>1</td>\n",
       "      <td>0</td>\n",
       "      <td>113803</td>\n",
       "      <td>53.1000</td>\n",
       "      <td>C123</td>\n",
       "      <td>S</td>\n",
       "    </tr>\n",
       "    <tr>\n",
       "      <th>5</th>\n",
       "      <td>0</td>\n",
       "      <td>3</td>\n",
       "      <td>Allen, Mr. William Henry</td>\n",
       "      <td>male</td>\n",
       "      <td>35.0</td>\n",
       "      <td>0</td>\n",
       "      <td>0</td>\n",
       "      <td>373450</td>\n",
       "      <td>8.0500</td>\n",
       "      <td>NaN</td>\n",
       "      <td>S</td>\n",
       "    </tr>\n",
       "    <tr>\n",
       "      <th>6</th>\n",
       "      <td>0</td>\n",
       "      <td>3</td>\n",
       "      <td>Moran, Mr. James</td>\n",
       "      <td>male</td>\n",
       "      <td>NaN</td>\n",
       "      <td>0</td>\n",
       "      <td>0</td>\n",
       "      <td>330877</td>\n",
       "      <td>8.4583</td>\n",
       "      <td>NaN</td>\n",
       "      <td>Q</td>\n",
       "    </tr>\n",
       "    <tr>\n",
       "      <th>7</th>\n",
       "      <td>0</td>\n",
       "      <td>1</td>\n",
       "      <td>McCarthy, Mr. Timothy J</td>\n",
       "      <td>male</td>\n",
       "      <td>54.0</td>\n",
       "      <td>0</td>\n",
       "      <td>0</td>\n",
       "      <td>17463</td>\n",
       "      <td>51.8625</td>\n",
       "      <td>E46</td>\n",
       "      <td>S</td>\n",
       "    </tr>\n",
       "    <tr>\n",
       "      <th>8</th>\n",
       "      <td>0</td>\n",
       "      <td>3</td>\n",
       "      <td>Palsson, Master. Gosta Leonard</td>\n",
       "      <td>male</td>\n",
       "      <td>2.0</td>\n",
       "      <td>3</td>\n",
       "      <td>1</td>\n",
       "      <td>349909</td>\n",
       "      <td>21.0750</td>\n",
       "      <td>NaN</td>\n",
       "      <td>S</td>\n",
       "    </tr>\n",
       "    <tr>\n",
       "      <th>9</th>\n",
       "      <td>1</td>\n",
       "      <td>3</td>\n",
       "      <td>Johnson, Mrs. Oscar W (Elisabeth Vilhelmina Berg)</td>\n",
       "      <td>female</td>\n",
       "      <td>27.0</td>\n",
       "      <td>0</td>\n",
       "      <td>2</td>\n",
       "      <td>347742</td>\n",
       "      <td>11.1333</td>\n",
       "      <td>NaN</td>\n",
       "      <td>S</td>\n",
       "    </tr>\n",
       "    <tr>\n",
       "      <th>10</th>\n",
       "      <td>1</td>\n",
       "      <td>2</td>\n",
       "      <td>Nasser, Mrs. Nicholas (Adele Achem)</td>\n",
       "      <td>female</td>\n",
       "      <td>14.0</td>\n",
       "      <td>1</td>\n",
       "      <td>0</td>\n",
       "      <td>237736</td>\n",
       "      <td>30.0708</td>\n",
       "      <td>NaN</td>\n",
       "      <td>C</td>\n",
       "    </tr>\n",
       "  </tbody>\n",
       "</table>\n",
       "</div>"
      ],
      "text/plain": [
       "             Survived  Pclass  \\\n",
       "PassengerId                     \n",
       "1                   0       3   \n",
       "2                   1       1   \n",
       "3                   1       3   \n",
       "4                   1       1   \n",
       "5                   0       3   \n",
       "6                   0       3   \n",
       "7                   0       1   \n",
       "8                   0       3   \n",
       "9                   1       3   \n",
       "10                  1       2   \n",
       "\n",
       "                                                          Name     Sex   Age  \\\n",
       "PassengerId                                                                    \n",
       "1                                      Braund, Mr. Owen Harris    male  22.0   \n",
       "2            Cumings, Mrs. John Bradley (Florence Briggs Th...  female  38.0   \n",
       "3                                       Heikkinen, Miss. Laina  female  26.0   \n",
       "4                 Futrelle, Mrs. Jacques Heath (Lily May Peel)  female  35.0   \n",
       "5                                     Allen, Mr. William Henry    male  35.0   \n",
       "6                                             Moran, Mr. James    male   NaN   \n",
       "7                                      McCarthy, Mr. Timothy J    male  54.0   \n",
       "8                               Palsson, Master. Gosta Leonard    male   2.0   \n",
       "9            Johnson, Mrs. Oscar W (Elisabeth Vilhelmina Berg)  female  27.0   \n",
       "10                         Nasser, Mrs. Nicholas (Adele Achem)  female  14.0   \n",
       "\n",
       "             SibSp  Parch            Ticket     Fare Cabin Embarked  \n",
       "PassengerId                                                          \n",
       "1                1      0         A/5 21171   7.2500   NaN        S  \n",
       "2                1      0          PC 17599  71.2833   C85        C  \n",
       "3                0      0  STON/O2. 3101282   7.9250   NaN        S  \n",
       "4                1      0            113803  53.1000  C123        S  \n",
       "5                0      0            373450   8.0500   NaN        S  \n",
       "6                0      0            330877   8.4583   NaN        Q  \n",
       "7                0      0             17463  51.8625   E46        S  \n",
       "8                3      1            349909  21.0750   NaN        S  \n",
       "9                0      2            347742  11.1333   NaN        S  \n",
       "10               1      0            237736  30.0708   NaN        C  "
      ]
     },
     "execution_count": 2,
     "metadata": {},
     "output_type": "execute_result"
    }
   ],
   "source": [
    "titanic=pd.read_csv('/kaggle/input/titanic/train.csv',index_col='PassengerId')\n",
    "titanic_test=pd.read_csv('/kaggle/input/titanic/test.csv',index_col='PassengerId')\n",
    "\n",
    "titanic.head(10)"
   ]
  },
  {
   "cell_type": "code",
   "execution_count": 3,
   "id": "charitable-teddy",
   "metadata": {
    "execution": {
     "iopub.execute_input": "2021-05-19T13:59:16.068884Z",
     "iopub.status.busy": "2021-05-19T13:59:16.068387Z",
     "iopub.status.idle": "2021-05-19T13:59:16.071843Z",
     "shell.execute_reply": "2021-05-19T13:59:16.071393Z"
    },
    "papermill": {
     "duration": 0.05307,
     "end_time": "2021-05-19T13:59:16.071953",
     "exception": false,
     "start_time": "2021-05-19T13:59:16.018883",
     "status": "completed"
    },
    "tags": []
   },
   "outputs": [
    {
     "data": {
      "text/html": [
       "<div>\n",
       "<style scoped>\n",
       "    .dataframe tbody tr th:only-of-type {\n",
       "        vertical-align: middle;\n",
       "    }\n",
       "\n",
       "    .dataframe tbody tr th {\n",
       "        vertical-align: top;\n",
       "    }\n",
       "\n",
       "    .dataframe thead th {\n",
       "        text-align: right;\n",
       "    }\n",
       "</style>\n",
       "<table border=\"1\" class=\"dataframe\">\n",
       "  <thead>\n",
       "    <tr style=\"text-align: right;\">\n",
       "      <th></th>\n",
       "      <th>Pclass</th>\n",
       "      <th>Name</th>\n",
       "      <th>Sex</th>\n",
       "      <th>Age</th>\n",
       "      <th>SibSp</th>\n",
       "      <th>Parch</th>\n",
       "      <th>Ticket</th>\n",
       "      <th>Fare</th>\n",
       "      <th>Cabin</th>\n",
       "      <th>Embarked</th>\n",
       "    </tr>\n",
       "    <tr>\n",
       "      <th>PassengerId</th>\n",
       "      <th></th>\n",
       "      <th></th>\n",
       "      <th></th>\n",
       "      <th></th>\n",
       "      <th></th>\n",
       "      <th></th>\n",
       "      <th></th>\n",
       "      <th></th>\n",
       "      <th></th>\n",
       "      <th></th>\n",
       "    </tr>\n",
       "  </thead>\n",
       "  <tbody>\n",
       "    <tr>\n",
       "      <th>892</th>\n",
       "      <td>3</td>\n",
       "      <td>Kelly, Mr. James</td>\n",
       "      <td>male</td>\n",
       "      <td>34.5</td>\n",
       "      <td>0</td>\n",
       "      <td>0</td>\n",
       "      <td>330911</td>\n",
       "      <td>7.8292</td>\n",
       "      <td>NaN</td>\n",
       "      <td>Q</td>\n",
       "    </tr>\n",
       "    <tr>\n",
       "      <th>893</th>\n",
       "      <td>3</td>\n",
       "      <td>Wilkes, Mrs. James (Ellen Needs)</td>\n",
       "      <td>female</td>\n",
       "      <td>47.0</td>\n",
       "      <td>1</td>\n",
       "      <td>0</td>\n",
       "      <td>363272</td>\n",
       "      <td>7.0000</td>\n",
       "      <td>NaN</td>\n",
       "      <td>S</td>\n",
       "    </tr>\n",
       "    <tr>\n",
       "      <th>894</th>\n",
       "      <td>2</td>\n",
       "      <td>Myles, Mr. Thomas Francis</td>\n",
       "      <td>male</td>\n",
       "      <td>62.0</td>\n",
       "      <td>0</td>\n",
       "      <td>0</td>\n",
       "      <td>240276</td>\n",
       "      <td>9.6875</td>\n",
       "      <td>NaN</td>\n",
       "      <td>Q</td>\n",
       "    </tr>\n",
       "    <tr>\n",
       "      <th>895</th>\n",
       "      <td>3</td>\n",
       "      <td>Wirz, Mr. Albert</td>\n",
       "      <td>male</td>\n",
       "      <td>27.0</td>\n",
       "      <td>0</td>\n",
       "      <td>0</td>\n",
       "      <td>315154</td>\n",
       "      <td>8.6625</td>\n",
       "      <td>NaN</td>\n",
       "      <td>S</td>\n",
       "    </tr>\n",
       "    <tr>\n",
       "      <th>896</th>\n",
       "      <td>3</td>\n",
       "      <td>Hirvonen, Mrs. Alexander (Helga E Lindqvist)</td>\n",
       "      <td>female</td>\n",
       "      <td>22.0</td>\n",
       "      <td>1</td>\n",
       "      <td>1</td>\n",
       "      <td>3101298</td>\n",
       "      <td>12.2875</td>\n",
       "      <td>NaN</td>\n",
       "      <td>S</td>\n",
       "    </tr>\n",
       "  </tbody>\n",
       "</table>\n",
       "</div>"
      ],
      "text/plain": [
       "             Pclass                                          Name     Sex  \\\n",
       "PassengerId                                                                 \n",
       "892               3                              Kelly, Mr. James    male   \n",
       "893               3              Wilkes, Mrs. James (Ellen Needs)  female   \n",
       "894               2                     Myles, Mr. Thomas Francis    male   \n",
       "895               3                              Wirz, Mr. Albert    male   \n",
       "896               3  Hirvonen, Mrs. Alexander (Helga E Lindqvist)  female   \n",
       "\n",
       "              Age  SibSp  Parch   Ticket     Fare Cabin Embarked  \n",
       "PassengerId                                                       \n",
       "892          34.5      0      0   330911   7.8292   NaN        Q  \n",
       "893          47.0      1      0   363272   7.0000   NaN        S  \n",
       "894          62.0      0      0   240276   9.6875   NaN        Q  \n",
       "895          27.0      0      0   315154   8.6625   NaN        S  \n",
       "896          22.0      1      1  3101298  12.2875   NaN        S  "
      ]
     },
     "execution_count": 3,
     "metadata": {},
     "output_type": "execute_result"
    }
   ],
   "source": [
    "titanic_test.head()"
   ]
  },
  {
   "cell_type": "code",
   "execution_count": 4,
   "id": "wrapped-madagascar",
   "metadata": {
    "execution": {
     "iopub.execute_input": "2021-05-19T13:59:16.151536Z",
     "iopub.status.busy": "2021-05-19T13:59:16.151013Z",
     "iopub.status.idle": "2021-05-19T13:59:16.168506Z",
     "shell.execute_reply": "2021-05-19T13:59:16.168995Z"
    },
    "papermill": {
     "duration": 0.058659,
     "end_time": "2021-05-19T13:59:16.169166",
     "exception": false,
     "start_time": "2021-05-19T13:59:16.110507",
     "status": "completed"
    },
    "tags": []
   },
   "outputs": [
    {
     "name": "stdout",
     "output_type": "stream",
     "text": [
      "<class 'pandas.core.frame.DataFrame'>\n",
      "Int64Index: 891 entries, 1 to 891\n",
      "Data columns (total 11 columns):\n",
      " #   Column    Non-Null Count  Dtype  \n",
      "---  ------    --------------  -----  \n",
      " 0   Survived  891 non-null    int64  \n",
      " 1   Pclass    891 non-null    int64  \n",
      " 2   Name      891 non-null    object \n",
      " 3   Sex       891 non-null    object \n",
      " 4   Age       714 non-null    float64\n",
      " 5   SibSp     891 non-null    int64  \n",
      " 6   Parch     891 non-null    int64  \n",
      " 7   Ticket    891 non-null    object \n",
      " 8   Fare      891 non-null    float64\n",
      " 9   Cabin     204 non-null    object \n",
      " 10  Embarked  889 non-null    object \n",
      "dtypes: float64(2), int64(4), object(5)\n",
      "memory usage: 83.5+ KB\n"
     ]
    }
   ],
   "source": [
    "titanic.info()"
   ]
  },
  {
   "cell_type": "code",
   "execution_count": 5,
   "id": "laden-boston",
   "metadata": {
    "execution": {
     "iopub.execute_input": "2021-05-19T13:59:16.249472Z",
     "iopub.status.busy": "2021-05-19T13:59:16.248990Z",
     "iopub.status.idle": "2021-05-19T13:59:16.277559Z",
     "shell.execute_reply": "2021-05-19T13:59:16.277048Z"
    },
    "papermill": {
     "duration": 0.069537,
     "end_time": "2021-05-19T13:59:16.277674",
     "exception": false,
     "start_time": "2021-05-19T13:59:16.208137",
     "status": "completed"
    },
    "tags": []
   },
   "outputs": [
    {
     "data": {
      "text/html": [
       "<div>\n",
       "<style scoped>\n",
       "    .dataframe tbody tr th:only-of-type {\n",
       "        vertical-align: middle;\n",
       "    }\n",
       "\n",
       "    .dataframe tbody tr th {\n",
       "        vertical-align: top;\n",
       "    }\n",
       "\n",
       "    .dataframe thead th {\n",
       "        text-align: right;\n",
       "    }\n",
       "</style>\n",
       "<table border=\"1\" class=\"dataframe\">\n",
       "  <thead>\n",
       "    <tr style=\"text-align: right;\">\n",
       "      <th></th>\n",
       "      <th>Survived</th>\n",
       "      <th>Pclass</th>\n",
       "      <th>Age</th>\n",
       "      <th>SibSp</th>\n",
       "      <th>Parch</th>\n",
       "      <th>Fare</th>\n",
       "    </tr>\n",
       "  </thead>\n",
       "  <tbody>\n",
       "    <tr>\n",
       "      <th>count</th>\n",
       "      <td>891.000000</td>\n",
       "      <td>891.000000</td>\n",
       "      <td>714.000000</td>\n",
       "      <td>891.000000</td>\n",
       "      <td>891.000000</td>\n",
       "      <td>891.000000</td>\n",
       "    </tr>\n",
       "    <tr>\n",
       "      <th>mean</th>\n",
       "      <td>0.383838</td>\n",
       "      <td>2.308642</td>\n",
       "      <td>29.699118</td>\n",
       "      <td>0.523008</td>\n",
       "      <td>0.381594</td>\n",
       "      <td>32.204208</td>\n",
       "    </tr>\n",
       "    <tr>\n",
       "      <th>std</th>\n",
       "      <td>0.486592</td>\n",
       "      <td>0.836071</td>\n",
       "      <td>14.526497</td>\n",
       "      <td>1.102743</td>\n",
       "      <td>0.806057</td>\n",
       "      <td>49.693429</td>\n",
       "    </tr>\n",
       "    <tr>\n",
       "      <th>min</th>\n",
       "      <td>0.000000</td>\n",
       "      <td>1.000000</td>\n",
       "      <td>0.420000</td>\n",
       "      <td>0.000000</td>\n",
       "      <td>0.000000</td>\n",
       "      <td>0.000000</td>\n",
       "    </tr>\n",
       "    <tr>\n",
       "      <th>25%</th>\n",
       "      <td>0.000000</td>\n",
       "      <td>2.000000</td>\n",
       "      <td>20.125000</td>\n",
       "      <td>0.000000</td>\n",
       "      <td>0.000000</td>\n",
       "      <td>7.910400</td>\n",
       "    </tr>\n",
       "    <tr>\n",
       "      <th>50%</th>\n",
       "      <td>0.000000</td>\n",
       "      <td>3.000000</td>\n",
       "      <td>28.000000</td>\n",
       "      <td>0.000000</td>\n",
       "      <td>0.000000</td>\n",
       "      <td>14.454200</td>\n",
       "    </tr>\n",
       "    <tr>\n",
       "      <th>75%</th>\n",
       "      <td>1.000000</td>\n",
       "      <td>3.000000</td>\n",
       "      <td>38.000000</td>\n",
       "      <td>1.000000</td>\n",
       "      <td>0.000000</td>\n",
       "      <td>31.000000</td>\n",
       "    </tr>\n",
       "    <tr>\n",
       "      <th>max</th>\n",
       "      <td>1.000000</td>\n",
       "      <td>3.000000</td>\n",
       "      <td>80.000000</td>\n",
       "      <td>8.000000</td>\n",
       "      <td>6.000000</td>\n",
       "      <td>512.329200</td>\n",
       "    </tr>\n",
       "  </tbody>\n",
       "</table>\n",
       "</div>"
      ],
      "text/plain": [
       "         Survived      Pclass         Age       SibSp       Parch        Fare\n",
       "count  891.000000  891.000000  714.000000  891.000000  891.000000  891.000000\n",
       "mean     0.383838    2.308642   29.699118    0.523008    0.381594   32.204208\n",
       "std      0.486592    0.836071   14.526497    1.102743    0.806057   49.693429\n",
       "min      0.000000    1.000000    0.420000    0.000000    0.000000    0.000000\n",
       "25%      0.000000    2.000000   20.125000    0.000000    0.000000    7.910400\n",
       "50%      0.000000    3.000000   28.000000    0.000000    0.000000   14.454200\n",
       "75%      1.000000    3.000000   38.000000    1.000000    0.000000   31.000000\n",
       "max      1.000000    3.000000   80.000000    8.000000    6.000000  512.329200"
      ]
     },
     "execution_count": 5,
     "metadata": {},
     "output_type": "execute_result"
    }
   ],
   "source": [
    "titanic.describe()"
   ]
  },
  {
   "cell_type": "code",
   "execution_count": 6,
   "id": "naval-israeli",
   "metadata": {
    "execution": {
     "iopub.execute_input": "2021-05-19T13:59:16.367828Z",
     "iopub.status.busy": "2021-05-19T13:59:16.367258Z",
     "iopub.status.idle": "2021-05-19T13:59:16.372624Z",
     "shell.execute_reply": "2021-05-19T13:59:16.371682Z"
    },
    "papermill": {
     "duration": 0.056153,
     "end_time": "2021-05-19T13:59:16.372796",
     "exception": false,
     "start_time": "2021-05-19T13:59:16.316643",
     "status": "completed"
    },
    "tags": []
   },
   "outputs": [
    {
     "name": "stdout",
     "output_type": "stream",
     "text": [
      "<class 'pandas.core.frame.DataFrame'>\n",
      "Int64Index: 418 entries, 892 to 1309\n",
      "Data columns (total 10 columns):\n",
      " #   Column    Non-Null Count  Dtype  \n",
      "---  ------    --------------  -----  \n",
      " 0   Pclass    418 non-null    int64  \n",
      " 1   Name      418 non-null    object \n",
      " 2   Sex       418 non-null    object \n",
      " 3   Age       332 non-null    float64\n",
      " 4   SibSp     418 non-null    int64  \n",
      " 5   Parch     418 non-null    int64  \n",
      " 6   Ticket    418 non-null    object \n",
      " 7   Fare      417 non-null    float64\n",
      " 8   Cabin     91 non-null     object \n",
      " 9   Embarked  418 non-null    object \n",
      "dtypes: float64(2), int64(3), object(5)\n",
      "memory usage: 35.9+ KB\n"
     ]
    }
   ],
   "source": [
    "titanic_test.info()"
   ]
  },
  {
   "cell_type": "code",
   "execution_count": 7,
   "id": "vocal-respect",
   "metadata": {
    "execution": {
     "iopub.execute_input": "2021-05-19T13:59:16.456337Z",
     "iopub.status.busy": "2021-05-19T13:59:16.455823Z",
     "iopub.status.idle": "2021-05-19T13:59:16.462267Z",
     "shell.execute_reply": "2021-05-19T13:59:16.462661Z"
    },
    "papermill": {
     "duration": 0.049092,
     "end_time": "2021-05-19T13:59:16.462803",
     "exception": false,
     "start_time": "2021-05-19T13:59:16.413711",
     "status": "completed"
    },
    "tags": []
   },
   "outputs": [],
   "source": [
    "titanic_full=pd.concat([titanic,titanic_test],axis=0)"
   ]
  },
  {
   "cell_type": "code",
   "execution_count": 8,
   "id": "enhanced-provincial",
   "metadata": {
    "execution": {
     "iopub.execute_input": "2021-05-19T13:59:16.546429Z",
     "iopub.status.busy": "2021-05-19T13:59:16.544556Z",
     "iopub.status.idle": "2021-05-19T13:59:16.550768Z",
     "shell.execute_reply": "2021-05-19T13:59:16.551405Z"
    },
    "papermill": {
     "duration": 0.04969,
     "end_time": "2021-05-19T13:59:16.551578",
     "exception": false,
     "start_time": "2021-05-19T13:59:16.501888",
     "status": "completed"
    },
    "tags": []
   },
   "outputs": [
    {
     "name": "stdout",
     "output_type": "stream",
     "text": [
      "(891, 11)\n",
      "(418, 10)\n",
      "(1309, 11)\n"
     ]
    }
   ],
   "source": [
    "print(titanic.shape)\n",
    "print(titanic_test.shape)\n",
    "print(titanic_full.shape)"
   ]
  },
  {
   "cell_type": "code",
   "execution_count": 9,
   "id": "convenient-tanzania",
   "metadata": {
    "execution": {
     "iopub.execute_input": "2021-05-19T13:59:16.686413Z",
     "iopub.status.busy": "2021-05-19T13:59:16.685808Z",
     "iopub.status.idle": "2021-05-19T13:59:16.693632Z",
     "shell.execute_reply": "2021-05-19T13:59:16.694151Z"
    },
    "papermill": {
     "duration": 0.071758,
     "end_time": "2021-05-19T13:59:16.694336",
     "exception": false,
     "start_time": "2021-05-19T13:59:16.622578",
     "status": "completed"
    },
    "tags": []
   },
   "outputs": [
    {
     "data": {
      "text/plain": [
       "Survived     418\n",
       "Pclass         0\n",
       "Name           0\n",
       "Sex            0\n",
       "Age          263\n",
       "SibSp          0\n",
       "Parch          0\n",
       "Ticket         0\n",
       "Fare           1\n",
       "Cabin       1014\n",
       "Embarked       2\n",
       "dtype: int64"
      ]
     },
     "execution_count": 9,
     "metadata": {},
     "output_type": "execute_result"
    }
   ],
   "source": [
    "titanic_full.isnull().sum()"
   ]
  },
  {
   "cell_type": "code",
   "execution_count": 10,
   "id": "associate-rehabilitation",
   "metadata": {
    "execution": {
     "iopub.execute_input": "2021-05-19T13:59:16.818735Z",
     "iopub.status.busy": "2021-05-19T13:59:16.818070Z",
     "iopub.status.idle": "2021-05-19T13:59:16.825072Z",
     "shell.execute_reply": "2021-05-19T13:59:16.825594Z"
    },
    "papermill": {
     "duration": 0.070562,
     "end_time": "2021-05-19T13:59:16.825769",
     "exception": false,
     "start_time": "2021-05-19T13:59:16.755207",
     "status": "completed"
    },
    "tags": []
   },
   "outputs": [],
   "source": [
    "# Removing Cabin column becuase out of 891 rows, the \"cabin\" column has 687 missing values.\n",
    "titanic_full=titanic_full.drop('Cabin',axis=1)\n",
    "titanic_full.Embarked.value_counts()\n",
    "# Filling the two missing values with the most frequent value for Embarked column\n",
    "titanic_full[['Embarked']]=titanic_full[['Embarked']].fillna('S')"
   ]
  },
  {
   "cell_type": "code",
   "execution_count": 11,
   "id": "atomic-workshop",
   "metadata": {
    "execution": {
     "iopub.execute_input": "2021-05-19T13:59:16.953124Z",
     "iopub.status.busy": "2021-05-19T13:59:16.952456Z",
     "iopub.status.idle": "2021-05-19T13:59:16.965108Z",
     "shell.execute_reply": "2021-05-19T13:59:16.964571Z"
    },
    "papermill": {
     "duration": 0.077409,
     "end_time": "2021-05-19T13:59:16.965219",
     "exception": false,
     "start_time": "2021-05-19T13:59:16.887810",
     "status": "completed"
    },
    "tags": []
   },
   "outputs": [],
   "source": [
    "# Creating a list for saving the title of people form the name column\n",
    "var=titanic_full['Name'].str.split()\n",
    "list_of_title=[]\n",
    "for x in range(1,(len(titanic_full)+1)):\n",
    "    list_of_title.append(var[x][1])"
   ]
  },
  {
   "cell_type": "code",
   "execution_count": 12,
   "id": "exclusive-clerk",
   "metadata": {
    "execution": {
     "iopub.execute_input": "2021-05-19T13:59:17.059150Z",
     "iopub.status.busy": "2021-05-19T13:59:17.058670Z",
     "iopub.status.idle": "2021-05-19T13:59:17.061769Z",
     "shell.execute_reply": "2021-05-19T13:59:17.062110Z"
    },
    "papermill": {
     "duration": 0.056644,
     "end_time": "2021-05-19T13:59:17.062242",
     "exception": false,
     "start_time": "2021-05-19T13:59:17.005598",
     "status": "completed"
    },
    "tags": []
   },
   "outputs": [
    {
     "data": {
      "text/html": [
       "<div>\n",
       "<style scoped>\n",
       "    .dataframe tbody tr th:only-of-type {\n",
       "        vertical-align: middle;\n",
       "    }\n",
       "\n",
       "    .dataframe tbody tr th {\n",
       "        vertical-align: top;\n",
       "    }\n",
       "\n",
       "    .dataframe thead th {\n",
       "        text-align: right;\n",
       "    }\n",
       "</style>\n",
       "<table border=\"1\" class=\"dataframe\">\n",
       "  <thead>\n",
       "    <tr style=\"text-align: right;\">\n",
       "      <th></th>\n",
       "      <th>Survived</th>\n",
       "      <th>Pclass</th>\n",
       "      <th>Name</th>\n",
       "      <th>Sex</th>\n",
       "      <th>Age</th>\n",
       "      <th>SibSp</th>\n",
       "      <th>Parch</th>\n",
       "      <th>Ticket</th>\n",
       "      <th>Fare</th>\n",
       "      <th>Embarked</th>\n",
       "      <th>Title</th>\n",
       "    </tr>\n",
       "    <tr>\n",
       "      <th>PassengerId</th>\n",
       "      <th></th>\n",
       "      <th></th>\n",
       "      <th></th>\n",
       "      <th></th>\n",
       "      <th></th>\n",
       "      <th></th>\n",
       "      <th></th>\n",
       "      <th></th>\n",
       "      <th></th>\n",
       "      <th></th>\n",
       "      <th></th>\n",
       "    </tr>\n",
       "  </thead>\n",
       "  <tbody>\n",
       "    <tr>\n",
       "      <th>1</th>\n",
       "      <td>0.0</td>\n",
       "      <td>3</td>\n",
       "      <td>Braund, Mr. Owen Harris</td>\n",
       "      <td>male</td>\n",
       "      <td>22.0</td>\n",
       "      <td>1</td>\n",
       "      <td>0</td>\n",
       "      <td>A/5 21171</td>\n",
       "      <td>7.2500</td>\n",
       "      <td>S</td>\n",
       "      <td>Mr.</td>\n",
       "    </tr>\n",
       "    <tr>\n",
       "      <th>2</th>\n",
       "      <td>1.0</td>\n",
       "      <td>1</td>\n",
       "      <td>Cumings, Mrs. John Bradley (Florence Briggs Th...</td>\n",
       "      <td>female</td>\n",
       "      <td>38.0</td>\n",
       "      <td>1</td>\n",
       "      <td>0</td>\n",
       "      <td>PC 17599</td>\n",
       "      <td>71.2833</td>\n",
       "      <td>C</td>\n",
       "      <td>Mrs.</td>\n",
       "    </tr>\n",
       "    <tr>\n",
       "      <th>3</th>\n",
       "      <td>1.0</td>\n",
       "      <td>3</td>\n",
       "      <td>Heikkinen, Miss. Laina</td>\n",
       "      <td>female</td>\n",
       "      <td>26.0</td>\n",
       "      <td>0</td>\n",
       "      <td>0</td>\n",
       "      <td>STON/O2. 3101282</td>\n",
       "      <td>7.9250</td>\n",
       "      <td>S</td>\n",
       "      <td>Miss.</td>\n",
       "    </tr>\n",
       "    <tr>\n",
       "      <th>4</th>\n",
       "      <td>1.0</td>\n",
       "      <td>1</td>\n",
       "      <td>Futrelle, Mrs. Jacques Heath (Lily May Peel)</td>\n",
       "      <td>female</td>\n",
       "      <td>35.0</td>\n",
       "      <td>1</td>\n",
       "      <td>0</td>\n",
       "      <td>113803</td>\n",
       "      <td>53.1000</td>\n",
       "      <td>S</td>\n",
       "      <td>Mrs.</td>\n",
       "    </tr>\n",
       "    <tr>\n",
       "      <th>5</th>\n",
       "      <td>0.0</td>\n",
       "      <td>3</td>\n",
       "      <td>Allen, Mr. William Henry</td>\n",
       "      <td>male</td>\n",
       "      <td>35.0</td>\n",
       "      <td>0</td>\n",
       "      <td>0</td>\n",
       "      <td>373450</td>\n",
       "      <td>8.0500</td>\n",
       "      <td>S</td>\n",
       "      <td>Mr.</td>\n",
       "    </tr>\n",
       "  </tbody>\n",
       "</table>\n",
       "</div>"
      ],
      "text/plain": [
       "             Survived  Pclass  \\\n",
       "PassengerId                     \n",
       "1                 0.0       3   \n",
       "2                 1.0       1   \n",
       "3                 1.0       3   \n",
       "4                 1.0       1   \n",
       "5                 0.0       3   \n",
       "\n",
       "                                                          Name     Sex   Age  \\\n",
       "PassengerId                                                                    \n",
       "1                                      Braund, Mr. Owen Harris    male  22.0   \n",
       "2            Cumings, Mrs. John Bradley (Florence Briggs Th...  female  38.0   \n",
       "3                                       Heikkinen, Miss. Laina  female  26.0   \n",
       "4                 Futrelle, Mrs. Jacques Heath (Lily May Peel)  female  35.0   \n",
       "5                                     Allen, Mr. William Henry    male  35.0   \n",
       "\n",
       "             SibSp  Parch            Ticket     Fare Embarked  Title  \n",
       "PassengerId                                                           \n",
       "1                1      0         A/5 21171   7.2500        S    Mr.  \n",
       "2                1      0          PC 17599  71.2833        C   Mrs.  \n",
       "3                0      0  STON/O2. 3101282   7.9250        S  Miss.  \n",
       "4                1      0            113803  53.1000        S   Mrs.  \n",
       "5                0      0            373450   8.0500        S    Mr.  "
      ]
     },
     "execution_count": 12,
     "metadata": {},
     "output_type": "execute_result"
    }
   ],
   "source": [
    "titanic_full['Title']=list_of_title\n",
    "titanic_full.head()"
   ]
  },
  {
   "cell_type": "code",
   "execution_count": 13,
   "id": "accomplished-fruit",
   "metadata": {
    "execution": {
     "iopub.execute_input": "2021-05-19T13:59:17.145057Z",
     "iopub.status.busy": "2021-05-19T13:59:17.144598Z",
     "iopub.status.idle": "2021-05-19T13:59:17.154420Z",
     "shell.execute_reply": "2021-05-19T13:59:17.153846Z"
    },
    "papermill": {
     "duration": 0.052593,
     "end_time": "2021-05-19T13:59:17.154578",
     "exception": false,
     "start_time": "2021-05-19T13:59:17.101985",
     "status": "completed"
    },
    "tags": []
   },
   "outputs": [
    {
     "data": {
      "text/plain": [
       "array(['Mr.', 'Mrs.', 'Miss.', 'Master.', 'Planke,', 'Don.', 'Rev.',\n",
       "       'Billiard,', 'der', 'Walle,', 'Dr.', 'Pelsmaeker,', 'Mulder,', 'y',\n",
       "       'Steen,', 'Carlo,', 'Mme.', 'Impe,', 'Ms.', 'Major.', 'Gordon,',\n",
       "       'Messemaeker,', 'Mlle.', 'Col.', 'Capt.', 'Velde,', 'the',\n",
       "       'Shawah,', 'Jonkheer.', 'Melkebeke,', 'Cruyssen,', 'Khalil,',\n",
       "       'Palmquist,', 'Brito,'], dtype=object)"
      ]
     },
     "execution_count": 13,
     "metadata": {},
     "output_type": "execute_result"
    }
   ],
   "source": [
    "titanic_full['Title'].unique()"
   ]
  },
  {
   "cell_type": "code",
   "execution_count": 14,
   "id": "complicated-return",
   "metadata": {
    "execution": {
     "iopub.execute_input": "2021-05-19T13:59:17.303377Z",
     "iopub.status.busy": "2021-05-19T13:59:17.302896Z",
     "iopub.status.idle": "2021-05-19T13:59:17.310140Z",
     "shell.execute_reply": "2021-05-19T13:59:17.309699Z"
    },
    "papermill": {
     "duration": 0.093136,
     "end_time": "2021-05-19T13:59:17.310250",
     "exception": false,
     "start_time": "2021-05-19T13:59:17.217114",
     "status": "completed"
    },
    "tags": []
   },
   "outputs": [
    {
     "name": "stdout",
     "output_type": "stream",
     "text": [
      "PassengerId\n",
      "19      Vander Planke, Mrs. Julius (Emelia Maria Vande...\n",
      "39                     Vander Planke, Miss. Augusta Maria\n",
      "334                       Vander Planke, Mr. Leo Edmondus\n",
      "1037                            Vander Planke, Mr. Julius\n",
      "Name: Name, dtype: object\n",
      "PassengerId\n",
      "154         van Billiard, Mr. Austin Blyler\n",
      "1084      van Billiard, Master. Walter John\n",
      "1236    van Billiard, Master. James William\n",
      "Name: Name, dtype: object\n",
      "PassengerId\n",
      "171    Van der hoef, Mr. Wyckoff\n",
      "Name: Name, dtype: object\n",
      "PassengerId\n",
      "201    Vande Walle, Mr. Nestor Cyriel\n",
      "Name: Name, dtype: object\n",
      "PassengerId\n",
      "283    de Pelsmaeker, Mr. Alfons\n",
      "Name: Name, dtype: object\n",
      "PassengerId\n",
      "287    de Mulder, Mr. Theodore\n",
      "Name: Name, dtype: object\n",
      "PassengerId\n",
      "308     Penasco y Castellana, Mrs. Victor de Satode (M...\n",
      "506            Penasco y Castellana, Mr. Victor de Satode\n",
      "548                            Padro y Manent, Mr. Julian\n",
      "867                          Duran y More, Miss. Asuncion\n",
      "965                       Ovies y Rodriguez, Mr. Servando\n",
      "1112                       Duran y More, Miss. Florentina\n",
      "1261                        Pallas y Castello, Mr. Emilio\n",
      "1306                         Oliva y Ocana, Dona. Fermina\n",
      "Name: Name, dtype: object\n",
      "PassengerId\n",
      "356    Vanden Steen, Mr. Leo Peter\n",
      "Name: Name, dtype: object\n",
      "PassengerId\n",
      "362                        del Carlo, Mr. Sebastiano\n",
      "907    del Carlo, Mrs. Sebastiano (Argenia Genovesi)\n",
      "Name: Name, dtype: object\n",
      "PassengerId\n",
      "444    Reynaldo, Ms. Encarnacion\n",
      "980      O'Donoghue, Ms. Bridget\n",
      "Name: Name, dtype: object\n",
      "PassengerId\n",
      "557    Duff Gordon, Lady. (Lucille Christiana Sutherl...\n",
      "600         Duff Gordon, Sir. Cosmo Edmund (\"Mr Morgan\")\n",
      "Name: Name, dtype: object\n",
      "PassengerId\n",
      "560     de Messemaeker, Mrs. Guillaume Joseph (Emma)\n",
      "1152            de Messemaeker, Mr. Guillaume Joseph\n",
      "Name: Name, dtype: object\n",
      "PassengerId\n",
      "753    Vande Velde, Mr. Johannes Joseph\n",
      "Name: Name, dtype: object\n",
      "PassengerId\n",
      "760    Rothes, the Countess. of (Lucy Noel Martha Dye...\n",
      "Name: Name, dtype: object\n",
      "PassengerId\n",
      "799    Ibrahim Shawah, Mr. Yousseff\n",
      "Name: Name, dtype: object\n",
      "PassengerId\n",
      "823    Reuchlin, Jonkheer. John George\n",
      "Name: Name, dtype: object\n",
      "PassengerId\n",
      "869    van Melkebeke, Mr. Philemon\n",
      "Name: Name, dtype: object\n",
      "PassengerId\n",
      "874    Vander Cruyssen, Mr. Victor\n",
      "Name: Name, dtype: object\n",
      "PassengerId\n",
      "911    Assaf Khalil, Mrs. Mariana (Miriam\")\"\n",
      "Name: Name, dtype: object\n",
      "PassengerId\n",
      "995    Johansson Palmquist, Mr. Oskar Leander\n",
      "Name: Name, dtype: object\n",
      "PassengerId\n",
      "1228    de Brito, Mr. Jose Joaquim\n",
      "Name: Name, dtype: object\n"
     ]
    }
   ],
   "source": [
    "corrections=['Planke,','Billiard,', 'der', 'Walle,',  'Pelsmaeker,', 'Mulder,', 'y',\n",
    "       'Steen,', 'Carlo,',  'Ms.',  'Gordon,','Messemaeker,',  'Velde,', 'the',\n",
    "       'Shawah,', 'Jonkheer.', 'Melkebeke,', 'Cruyssen,', 'Khalil,',\n",
    "       'Palmquist,', 'Brito,']\n",
    "\n",
    "for x in corrections:\n",
    "    print(titanic_full.loc[titanic_full['Title']==x,'Name'])"
   ]
  },
  {
   "cell_type": "code",
   "execution_count": 15,
   "id": "interstate-madrid",
   "metadata": {
    "execution": {
     "iopub.execute_input": "2021-05-19T13:59:17.412428Z",
     "iopub.status.busy": "2021-05-19T13:59:17.409493Z",
     "iopub.status.idle": "2021-05-19T13:59:17.414651Z",
     "shell.execute_reply": "2021-05-19T13:59:17.415076Z"
    },
    "papermill": {
     "duration": 0.06418,
     "end_time": "2021-05-19T13:59:17.415203",
     "exception": false,
     "start_time": "2021-05-19T13:59:17.351023",
     "status": "completed"
    },
    "tags": []
   },
   "outputs": [],
   "source": [
    "#Some titles needed some modifications based on their names\n",
    "\n",
    "a=[19,39,334,1037,154,1084,1236,201,283,287,356,362,907,420,596,800,560,1152,753,760,799,869,874,911,995,1228]\n",
    "b=[171,308,506,548,867,965,1112,1261,1306]\n",
    "for x in a:\n",
    "    titanic_full.loc[x,'Title']=var[x][2]\n",
    "    \n",
    "for y in b:\n",
    "    titanic_full.loc[y,'Title']=var[y][3]\n",
    "    \n",
    "    \n",
    "titanic_full.loc[557,'Title']='Mrs'\n",
    "titanic_full.loc[600,'Title']='Mr'\n",
    "titanic_full.loc[760,'Title']='Mrs'\n",
    "\n",
    "#Some of the titles like Jonkheer,Col,Capt,etc are being left as it is."
   ]
  },
  {
   "cell_type": "code",
   "execution_count": 16,
   "id": "silver-horizon",
   "metadata": {
    "execution": {
     "iopub.execute_input": "2021-05-19T13:59:17.500233Z",
     "iopub.status.busy": "2021-05-19T13:59:17.499791Z",
     "iopub.status.idle": "2021-05-19T13:59:17.508744Z",
     "shell.execute_reply": "2021-05-19T13:59:17.509198Z"
    },
    "papermill": {
     "duration": 0.052947,
     "end_time": "2021-05-19T13:59:17.509355",
     "exception": false,
     "start_time": "2021-05-19T13:59:17.456408",
     "status": "completed"
    },
    "tags": []
   },
   "outputs": [
    {
     "name": "stderr",
     "output_type": "stream",
     "text": [
      "/opt/conda/lib/python3.7/site-packages/ipykernel_launcher.py:1: FutureWarning: The default value of regex will change from True to False in a future version. In addition, single character regular expressions will*not* be treated as literal strings when regex=True.\n",
      "  \"\"\"Entry point for launching an IPython kernel.\n"
     ]
    }
   ],
   "source": [
    "titanic_full['Title']=titanic_full['Title'].str.replace('.','').str.replace(',','')"
   ]
  },
  {
   "cell_type": "code",
   "execution_count": 17,
   "id": "experienced-presence",
   "metadata": {
    "execution": {
     "iopub.execute_input": "2021-05-19T13:59:17.594301Z",
     "iopub.status.busy": "2021-05-19T13:59:17.593881Z",
     "iopub.status.idle": "2021-05-19T13:59:17.600833Z",
     "shell.execute_reply": "2021-05-19T13:59:17.601180Z"
    },
    "papermill": {
     "duration": 0.050652,
     "end_time": "2021-05-19T13:59:17.601330",
     "exception": false,
     "start_time": "2021-05-19T13:59:17.550678",
     "status": "completed"
    },
    "tags": []
   },
   "outputs": [
    {
     "data": {
      "text/plain": [
       "array(['Mr', 'Mrs', 'Miss', 'Master', 'Don', 'Rev', 'Dr', 'Mme', 'Ms',\n",
       "       'Major', 'Mlle', 'Col', 'Capt', 'Jonkheer', 'Dona'], dtype=object)"
      ]
     },
     "execution_count": 17,
     "metadata": {},
     "output_type": "execute_result"
    }
   ],
   "source": [
    "titanic_full.Title.unique()"
   ]
  },
  {
   "cell_type": "code",
   "execution_count": 18,
   "id": "incorporate-giving",
   "metadata": {
    "execution": {
     "iopub.execute_input": "2021-05-19T13:59:17.689769Z",
     "iopub.status.busy": "2021-05-19T13:59:17.689337Z",
     "iopub.status.idle": "2021-05-19T13:59:18.106472Z",
     "shell.execute_reply": "2021-05-19T13:59:18.105964Z"
    },
    "papermill": {
     "duration": 0.464086,
     "end_time": "2021-05-19T13:59:18.106587",
     "exception": false,
     "start_time": "2021-05-19T13:59:17.642501",
     "status": "completed"
    },
    "tags": []
   },
   "outputs": [],
   "source": [
    "#Calculating missing age for title - 'Mr' \n",
    "from sklearn.impute import SimpleImputer\n",
    "\n",
    "mr=pd.DataFrame(titanic_full.loc[titanic_full['Title']=='Mr','Age'])\n",
    "\n",
    "my_imputer = SimpleImputer(strategy='mean')\n",
    "imputed_mr=pd.DataFrame(my_imputer.fit_transform(mr[['Age']]))\n",
    "imputed_mr.index=mr.index\n",
    "imputed_mr.columns=mr.columns"
   ]
  },
  {
   "cell_type": "code",
   "execution_count": 19,
   "id": "animal-rachel",
   "metadata": {
    "execution": {
     "iopub.execute_input": "2021-05-19T13:59:18.195348Z",
     "iopub.status.busy": "2021-05-19T13:59:18.194490Z",
     "iopub.status.idle": "2021-05-19T13:59:18.197133Z",
     "shell.execute_reply": "2021-05-19T13:59:18.196618Z"
    },
    "papermill": {
     "duration": 0.048839,
     "end_time": "2021-05-19T13:59:18.197274",
     "exception": false,
     "start_time": "2021-05-19T13:59:18.148435",
     "status": "completed"
    },
    "tags": []
   },
   "outputs": [],
   "source": [
    "# Substituting the age for people with title as 'Mr' after finding the average value with the help of simple imputer\n",
    "titanic_full.loc[titanic_full['Title']=='Mr','Age']=imputed_mr['Age']"
   ]
  },
  {
   "cell_type": "code",
   "execution_count": 20,
   "id": "retired-family",
   "metadata": {
    "execution": {
     "iopub.execute_input": "2021-05-19T13:59:18.334896Z",
     "iopub.status.busy": "2021-05-19T13:59:18.334418Z",
     "iopub.status.idle": "2021-05-19T13:59:18.341167Z",
     "shell.execute_reply": "2021-05-19T13:59:18.340668Z"
    },
    "papermill": {
     "duration": 0.078496,
     "end_time": "2021-05-19T13:59:18.341271",
     "exception": false,
     "start_time": "2021-05-19T13:59:18.262775",
     "status": "completed"
    },
    "tags": []
   },
   "outputs": [
    {
     "name": "stdout",
     "output_type": "stream",
     "text": [
      "5.482641509433963\n"
     ]
    }
   ],
   "source": [
    "# Simple imputer didn't work for title 'Master' so finding the rows and avg age manually.\n",
    "mt=pd.DataFrame(titanic_full.loc[titanic_full['Title']=='Master','Age'])\n",
    "master_rows=list((mt[mt['Age'].isnull()]).index)\n",
    "avg_age_master=titanic_full[titanic_full['Title']=='Master']['Age'].mean()\n",
    "print(avg_age_master)\n",
    "for row in master_rows:\n",
    "    titanic_full.loc[row,'Age']=avg_age_master"
   ]
  },
  {
   "cell_type": "code",
   "execution_count": 21,
   "id": "innocent-vienna",
   "metadata": {
    "execution": {
     "iopub.execute_input": "2021-05-19T13:59:18.438907Z",
     "iopub.status.busy": "2021-05-19T13:59:18.436109Z",
     "iopub.status.idle": "2021-05-19T13:59:18.441158Z",
     "shell.execute_reply": "2021-05-19T13:59:18.441594Z"
    },
    "papermill": {
     "duration": 0.057914,
     "end_time": "2021-05-19T13:59:18.441726",
     "exception": false,
     "start_time": "2021-05-19T13:59:18.383812",
     "status": "completed"
    },
    "tags": []
   },
   "outputs": [],
   "source": [
    "#Calculating missing age for title - 'Mrs' \n",
    "from sklearn.impute import SimpleImputer\n",
    "\n",
    "mrs=pd.DataFrame(titanic_full.loc[titanic_full['Title']=='Mrs','Age'])\n",
    "\n",
    "my_imputer = SimpleImputer(strategy='mean')\n",
    "imputed_mrs=pd.DataFrame(my_imputer.fit_transform(mrs[['Age']]))\n",
    "imputed_mrs.index=mrs.index\n",
    "imputed_mrs.columns=mrs.columns"
   ]
  },
  {
   "cell_type": "code",
   "execution_count": 22,
   "id": "neither-preference",
   "metadata": {
    "execution": {
     "iopub.execute_input": "2021-05-19T13:59:18.527576Z",
     "iopub.status.busy": "2021-05-19T13:59:18.527134Z",
     "iopub.status.idle": "2021-05-19T13:59:18.532795Z",
     "shell.execute_reply": "2021-05-19T13:59:18.533212Z"
    },
    "papermill": {
     "duration": 0.050199,
     "end_time": "2021-05-19T13:59:18.533351",
     "exception": false,
     "start_time": "2021-05-19T13:59:18.483152",
     "status": "completed"
    },
    "tags": []
   },
   "outputs": [],
   "source": [
    "# Substituting the age for people with title as 'Mrs' after finding the average value with the help of simple imputer\n",
    "titanic_full.loc[titanic_full['Title']=='Mrs','Age']=imputed_mrs['Age']"
   ]
  },
  {
   "cell_type": "code",
   "execution_count": 23,
   "id": "hired-masters",
   "metadata": {
    "execution": {
     "iopub.execute_input": "2021-05-19T13:59:18.620567Z",
     "iopub.status.busy": "2021-05-19T13:59:18.620052Z",
     "iopub.status.idle": "2021-05-19T13:59:18.632046Z",
     "shell.execute_reply": "2021-05-19T13:59:18.632448Z"
    },
    "papermill": {
     "duration": 0.057307,
     "end_time": "2021-05-19T13:59:18.632582",
     "exception": false,
     "start_time": "2021-05-19T13:59:18.575275",
     "status": "completed"
    },
    "tags": []
   },
   "outputs": [],
   "source": [
    "#Calculating missing age for title - 'Miss' \n",
    "from sklearn.impute import SimpleImputer\n",
    "\n",
    "miss=pd.DataFrame(titanic_full.loc[titanic_full['Title']=='Miss','Age'])\n",
    "\n",
    "my_imputer = SimpleImputer(strategy='mean')\n",
    "imputed_miss=pd.DataFrame(my_imputer.fit_transform(miss[['Age']]))\n",
    "imputed_miss.index=miss.index\n",
    "imputed_miss.columns=miss.columns"
   ]
  },
  {
   "cell_type": "code",
   "execution_count": 24,
   "id": "fitted-freeze",
   "metadata": {
    "execution": {
     "iopub.execute_input": "2021-05-19T13:59:18.719560Z",
     "iopub.status.busy": "2021-05-19T13:59:18.719118Z",
     "iopub.status.idle": "2021-05-19T13:59:18.725384Z",
     "shell.execute_reply": "2021-05-19T13:59:18.725802Z"
    },
    "papermill": {
     "duration": 0.051287,
     "end_time": "2021-05-19T13:59:18.725957",
     "exception": false,
     "start_time": "2021-05-19T13:59:18.674670",
     "status": "completed"
    },
    "tags": []
   },
   "outputs": [],
   "source": [
    "# Substituting the age for people with title as 'Miss' after finding the average value with the help of simple imputer\n",
    "titanic_full.loc[titanic_full['Title']=='Miss','Age']=imputed_miss['Age']"
   ]
  },
  {
   "cell_type": "code",
   "execution_count": 25,
   "id": "dense-unknown",
   "metadata": {
    "execution": {
     "iopub.execute_input": "2021-05-19T13:59:18.815415Z",
     "iopub.status.busy": "2021-05-19T13:59:18.814951Z",
     "iopub.status.idle": "2021-05-19T13:59:18.837514Z",
     "shell.execute_reply": "2021-05-19T13:59:18.836840Z"
    },
    "papermill": {
     "duration": 0.068558,
     "end_time": "2021-05-19T13:59:18.837650",
     "exception": false,
     "start_time": "2021-05-19T13:59:18.769092",
     "status": "completed"
    },
    "tags": []
   },
   "outputs": [
    {
     "data": {
      "text/html": [
       "<div>\n",
       "<style scoped>\n",
       "    .dataframe tbody tr th:only-of-type {\n",
       "        vertical-align: middle;\n",
       "    }\n",
       "\n",
       "    .dataframe tbody tr th {\n",
       "        vertical-align: top;\n",
       "    }\n",
       "\n",
       "    .dataframe thead th {\n",
       "        text-align: right;\n",
       "    }\n",
       "</style>\n",
       "<table border=\"1\" class=\"dataframe\">\n",
       "  <thead>\n",
       "    <tr style=\"text-align: right;\">\n",
       "      <th></th>\n",
       "      <th>Survived</th>\n",
       "      <th>Pclass</th>\n",
       "      <th>Name</th>\n",
       "      <th>Sex</th>\n",
       "      <th>Age</th>\n",
       "      <th>SibSp</th>\n",
       "      <th>Parch</th>\n",
       "      <th>Ticket</th>\n",
       "      <th>Fare</th>\n",
       "      <th>Embarked</th>\n",
       "      <th>Title</th>\n",
       "    </tr>\n",
       "    <tr>\n",
       "      <th>PassengerId</th>\n",
       "      <th></th>\n",
       "      <th></th>\n",
       "      <th></th>\n",
       "      <th></th>\n",
       "      <th></th>\n",
       "      <th></th>\n",
       "      <th></th>\n",
       "      <th></th>\n",
       "      <th></th>\n",
       "      <th></th>\n",
       "      <th></th>\n",
       "    </tr>\n",
       "  </thead>\n",
       "  <tbody>\n",
       "    <tr>\n",
       "      <th>246</th>\n",
       "      <td>0.0</td>\n",
       "      <td>1</td>\n",
       "      <td>Minahan, Dr. William Edward</td>\n",
       "      <td>male</td>\n",
       "      <td>44.0</td>\n",
       "      <td>2</td>\n",
       "      <td>0</td>\n",
       "      <td>19928</td>\n",
       "      <td>90.0000</td>\n",
       "      <td>Q</td>\n",
       "      <td>Dr</td>\n",
       "    </tr>\n",
       "    <tr>\n",
       "      <th>318</th>\n",
       "      <td>0.0</td>\n",
       "      <td>2</td>\n",
       "      <td>Moraweck, Dr. Ernest</td>\n",
       "      <td>male</td>\n",
       "      <td>54.0</td>\n",
       "      <td>0</td>\n",
       "      <td>0</td>\n",
       "      <td>29011</td>\n",
       "      <td>14.0000</td>\n",
       "      <td>S</td>\n",
       "      <td>Dr</td>\n",
       "    </tr>\n",
       "    <tr>\n",
       "      <th>399</th>\n",
       "      <td>0.0</td>\n",
       "      <td>2</td>\n",
       "      <td>Pain, Dr. Alfred</td>\n",
       "      <td>male</td>\n",
       "      <td>23.0</td>\n",
       "      <td>0</td>\n",
       "      <td>0</td>\n",
       "      <td>244278</td>\n",
       "      <td>10.5000</td>\n",
       "      <td>S</td>\n",
       "      <td>Dr</td>\n",
       "    </tr>\n",
       "    <tr>\n",
       "      <th>633</th>\n",
       "      <td>1.0</td>\n",
       "      <td>1</td>\n",
       "      <td>Stahelin-Maeglin, Dr. Max</td>\n",
       "      <td>male</td>\n",
       "      <td>32.0</td>\n",
       "      <td>0</td>\n",
       "      <td>0</td>\n",
       "      <td>13214</td>\n",
       "      <td>30.5000</td>\n",
       "      <td>C</td>\n",
       "      <td>Dr</td>\n",
       "    </tr>\n",
       "    <tr>\n",
       "      <th>661</th>\n",
       "      <td>1.0</td>\n",
       "      <td>1</td>\n",
       "      <td>Frauenthal, Dr. Henry William</td>\n",
       "      <td>male</td>\n",
       "      <td>50.0</td>\n",
       "      <td>2</td>\n",
       "      <td>0</td>\n",
       "      <td>PC 17611</td>\n",
       "      <td>133.6500</td>\n",
       "      <td>S</td>\n",
       "      <td>Dr</td>\n",
       "    </tr>\n",
       "    <tr>\n",
       "      <th>767</th>\n",
       "      <td>0.0</td>\n",
       "      <td>1</td>\n",
       "      <td>Brewe, Dr. Arthur Jackson</td>\n",
       "      <td>male</td>\n",
       "      <td>NaN</td>\n",
       "      <td>0</td>\n",
       "      <td>0</td>\n",
       "      <td>112379</td>\n",
       "      <td>39.6000</td>\n",
       "      <td>C</td>\n",
       "      <td>Dr</td>\n",
       "    </tr>\n",
       "    <tr>\n",
       "      <th>797</th>\n",
       "      <td>1.0</td>\n",
       "      <td>1</td>\n",
       "      <td>Leader, Dr. Alice (Farnham)</td>\n",
       "      <td>female</td>\n",
       "      <td>49.0</td>\n",
       "      <td>0</td>\n",
       "      <td>0</td>\n",
       "      <td>17465</td>\n",
       "      <td>25.9292</td>\n",
       "      <td>S</td>\n",
       "      <td>Dr</td>\n",
       "    </tr>\n",
       "    <tr>\n",
       "      <th>1185</th>\n",
       "      <td>NaN</td>\n",
       "      <td>1</td>\n",
       "      <td>Dodge, Dr. Washington</td>\n",
       "      <td>male</td>\n",
       "      <td>53.0</td>\n",
       "      <td>1</td>\n",
       "      <td>1</td>\n",
       "      <td>33638</td>\n",
       "      <td>81.8583</td>\n",
       "      <td>S</td>\n",
       "      <td>Dr</td>\n",
       "    </tr>\n",
       "  </tbody>\n",
       "</table>\n",
       "</div>"
      ],
      "text/plain": [
       "             Survived  Pclass                           Name     Sex   Age  \\\n",
       "PassengerId                                                                  \n",
       "246               0.0       1    Minahan, Dr. William Edward    male  44.0   \n",
       "318               0.0       2           Moraweck, Dr. Ernest    male  54.0   \n",
       "399               0.0       2               Pain, Dr. Alfred    male  23.0   \n",
       "633               1.0       1      Stahelin-Maeglin, Dr. Max    male  32.0   \n",
       "661               1.0       1  Frauenthal, Dr. Henry William    male  50.0   \n",
       "767               0.0       1      Brewe, Dr. Arthur Jackson    male   NaN   \n",
       "797               1.0       1    Leader, Dr. Alice (Farnham)  female  49.0   \n",
       "1185              NaN       1          Dodge, Dr. Washington    male  53.0   \n",
       "\n",
       "             SibSp  Parch    Ticket      Fare Embarked Title  \n",
       "PassengerId                                                   \n",
       "246              2      0     19928   90.0000        Q    Dr  \n",
       "318              0      0     29011   14.0000        S    Dr  \n",
       "399              0      0    244278   10.5000        S    Dr  \n",
       "633              0      0     13214   30.5000        C    Dr  \n",
       "661              2      0  PC 17611  133.6500        S    Dr  \n",
       "767              0      0    112379   39.6000        C    Dr  \n",
       "797              0      0     17465   25.9292        S    Dr  \n",
       "1185             1      1     33638   81.8583        S    Dr  "
      ]
     },
     "execution_count": 25,
     "metadata": {},
     "output_type": "execute_result"
    }
   ],
   "source": [
    "# Taking the mean of the rows with title 'Dr' because it has only one missing row \n",
    "titanic_full[titanic_full['Title']=='Dr']"
   ]
  },
  {
   "cell_type": "code",
   "execution_count": 26,
   "id": "missing-chocolate",
   "metadata": {
    "execution": {
     "iopub.execute_input": "2021-05-19T13:59:18.974321Z",
     "iopub.status.busy": "2021-05-19T13:59:18.973672Z",
     "iopub.status.idle": "2021-05-19T13:59:18.980325Z",
     "shell.execute_reply": "2021-05-19T13:59:18.979752Z"
    },
    "papermill": {
     "duration": 0.0762,
     "end_time": "2021-05-19T13:59:18.980479",
     "exception": false,
     "start_time": "2021-05-19T13:59:18.904279",
     "status": "completed"
    },
    "tags": []
   },
   "outputs": [
    {
     "data": {
      "text/plain": [
       "43.57142857142857"
      ]
     },
     "execution_count": 26,
     "metadata": {},
     "output_type": "execute_result"
    }
   ],
   "source": [
    "titanic_full[titanic_full['Title']=='Dr']['Age'].mean()"
   ]
  },
  {
   "cell_type": "code",
   "execution_count": 27,
   "id": "subsequent-blues",
   "metadata": {
    "execution": {
     "iopub.execute_input": "2021-05-19T13:59:19.119603Z",
     "iopub.status.busy": "2021-05-19T13:59:19.118990Z",
     "iopub.status.idle": "2021-05-19T13:59:19.123057Z",
     "shell.execute_reply": "2021-05-19T13:59:19.122421Z"
    },
    "papermill": {
     "duration": 0.075567,
     "end_time": "2021-05-19T13:59:19.123210",
     "exception": false,
     "start_time": "2021-05-19T13:59:19.047643",
     "status": "completed"
    },
    "tags": []
   },
   "outputs": [],
   "source": [
    "titanic_full.loc[767,'Age']=43.57"
   ]
  },
  {
   "cell_type": "code",
   "execution_count": 28,
   "id": "funky-nicaragua",
   "metadata": {
    "execution": {
     "iopub.execute_input": "2021-05-19T13:59:19.262483Z",
     "iopub.status.busy": "2021-05-19T13:59:19.261848Z",
     "iopub.status.idle": "2021-05-19T13:59:19.275929Z",
     "shell.execute_reply": "2021-05-19T13:59:19.275380Z"
    },
    "papermill": {
     "duration": 0.085395,
     "end_time": "2021-05-19T13:59:19.276062",
     "exception": false,
     "start_time": "2021-05-19T13:59:19.190667",
     "status": "completed"
    },
    "tags": []
   },
   "outputs": [
    {
     "data": {
      "text/html": [
       "<div>\n",
       "<style scoped>\n",
       "    .dataframe tbody tr th:only-of-type {\n",
       "        vertical-align: middle;\n",
       "    }\n",
       "\n",
       "    .dataframe tbody tr th {\n",
       "        vertical-align: top;\n",
       "    }\n",
       "\n",
       "    .dataframe thead th {\n",
       "        text-align: right;\n",
       "    }\n",
       "</style>\n",
       "<table border=\"1\" class=\"dataframe\">\n",
       "  <thead>\n",
       "    <tr style=\"text-align: right;\">\n",
       "      <th></th>\n",
       "      <th>Survived</th>\n",
       "      <th>Pclass</th>\n",
       "      <th>Name</th>\n",
       "      <th>Sex</th>\n",
       "      <th>Age</th>\n",
       "      <th>SibSp</th>\n",
       "      <th>Parch</th>\n",
       "      <th>Ticket</th>\n",
       "      <th>Fare</th>\n",
       "      <th>Embarked</th>\n",
       "      <th>Title</th>\n",
       "    </tr>\n",
       "    <tr>\n",
       "      <th>PassengerId</th>\n",
       "      <th></th>\n",
       "      <th></th>\n",
       "      <th></th>\n",
       "      <th></th>\n",
       "      <th></th>\n",
       "      <th></th>\n",
       "      <th></th>\n",
       "      <th></th>\n",
       "      <th></th>\n",
       "      <th></th>\n",
       "      <th></th>\n",
       "    </tr>\n",
       "  </thead>\n",
       "  <tbody>\n",
       "    <tr>\n",
       "      <th>444</th>\n",
       "      <td>1.0</td>\n",
       "      <td>2</td>\n",
       "      <td>Reynaldo, Ms. Encarnacion</td>\n",
       "      <td>female</td>\n",
       "      <td>28.0</td>\n",
       "      <td>0</td>\n",
       "      <td>0</td>\n",
       "      <td>230434</td>\n",
       "      <td>13.00</td>\n",
       "      <td>S</td>\n",
       "      <td>Ms</td>\n",
       "    </tr>\n",
       "    <tr>\n",
       "      <th>980</th>\n",
       "      <td>NaN</td>\n",
       "      <td>3</td>\n",
       "      <td>O'Donoghue, Ms. Bridget</td>\n",
       "      <td>female</td>\n",
       "      <td>NaN</td>\n",
       "      <td>0</td>\n",
       "      <td>0</td>\n",
       "      <td>364856</td>\n",
       "      <td>7.75</td>\n",
       "      <td>Q</td>\n",
       "      <td>Ms</td>\n",
       "    </tr>\n",
       "  </tbody>\n",
       "</table>\n",
       "</div>"
      ],
      "text/plain": [
       "             Survived  Pclass                       Name     Sex   Age  SibSp  \\\n",
       "PassengerId                                                                     \n",
       "444               1.0       2  Reynaldo, Ms. Encarnacion  female  28.0      0   \n",
       "980               NaN       3    O'Donoghue, Ms. Bridget  female   NaN      0   \n",
       "\n",
       "             Parch  Ticket   Fare Embarked Title  \n",
       "PassengerId                                       \n",
       "444              0  230434  13.00        S    Ms  \n",
       "980              0  364856   7.75        Q    Ms  "
      ]
     },
     "execution_count": 28,
     "metadata": {},
     "output_type": "execute_result"
    }
   ],
   "source": [
    "# The 'Ms' title has only two rows and one of them is missing, so assigning the value of the first row to the missing one.\n",
    "titanic_full[titanic_full['Title']=='Ms']"
   ]
  },
  {
   "cell_type": "code",
   "execution_count": 29,
   "id": "automotive-series",
   "metadata": {
    "execution": {
     "iopub.execute_input": "2021-05-19T13:59:19.420181Z",
     "iopub.status.busy": "2021-05-19T13:59:19.419698Z",
     "iopub.status.idle": "2021-05-19T13:59:19.422817Z",
     "shell.execute_reply": "2021-05-19T13:59:19.422260Z"
    },
    "papermill": {
     "duration": 0.077132,
     "end_time": "2021-05-19T13:59:19.422931",
     "exception": false,
     "start_time": "2021-05-19T13:59:19.345799",
     "status": "completed"
    },
    "tags": []
   },
   "outputs": [],
   "source": [
    "titanic_full.loc[980,'Age']=28.0"
   ]
  },
  {
   "cell_type": "code",
   "execution_count": 30,
   "id": "approximate-horizontal",
   "metadata": {
    "execution": {
     "iopub.execute_input": "2021-05-19T13:59:19.524841Z",
     "iopub.status.busy": "2021-05-19T13:59:19.524236Z",
     "iopub.status.idle": "2021-05-19T13:59:19.528963Z",
     "shell.execute_reply": "2021-05-19T13:59:19.528487Z"
    },
    "papermill": {
     "duration": 0.061258,
     "end_time": "2021-05-19T13:59:19.529081",
     "exception": false,
     "start_time": "2021-05-19T13:59:19.467823",
     "status": "completed"
    },
    "tags": []
   },
   "outputs": [
    {
     "data": {
      "text/html": [
       "<div>\n",
       "<style scoped>\n",
       "    .dataframe tbody tr th:only-of-type {\n",
       "        vertical-align: middle;\n",
       "    }\n",
       "\n",
       "    .dataframe tbody tr th {\n",
       "        vertical-align: top;\n",
       "    }\n",
       "\n",
       "    .dataframe thead th {\n",
       "        text-align: right;\n",
       "    }\n",
       "</style>\n",
       "<table border=\"1\" class=\"dataframe\">\n",
       "  <thead>\n",
       "    <tr style=\"text-align: right;\">\n",
       "      <th></th>\n",
       "      <th>Survived</th>\n",
       "      <th>Pclass</th>\n",
       "      <th>Name</th>\n",
       "      <th>Sex</th>\n",
       "      <th>Age</th>\n",
       "      <th>SibSp</th>\n",
       "      <th>Parch</th>\n",
       "      <th>Ticket</th>\n",
       "      <th>Fare</th>\n",
       "      <th>Embarked</th>\n",
       "      <th>Title</th>\n",
       "    </tr>\n",
       "    <tr>\n",
       "      <th>PassengerId</th>\n",
       "      <th></th>\n",
       "      <th></th>\n",
       "      <th></th>\n",
       "      <th></th>\n",
       "      <th></th>\n",
       "      <th></th>\n",
       "      <th></th>\n",
       "      <th></th>\n",
       "      <th></th>\n",
       "      <th></th>\n",
       "      <th></th>\n",
       "    </tr>\n",
       "  </thead>\n",
       "  <tbody>\n",
       "    <tr>\n",
       "      <th>1044</th>\n",
       "      <td>NaN</td>\n",
       "      <td>3</td>\n",
       "      <td>Storey, Mr. Thomas</td>\n",
       "      <td>male</td>\n",
       "      <td>60.5</td>\n",
       "      <td>0</td>\n",
       "      <td>0</td>\n",
       "      <td>3701</td>\n",
       "      <td>NaN</td>\n",
       "      <td>S</td>\n",
       "      <td>Mr</td>\n",
       "    </tr>\n",
       "  </tbody>\n",
       "</table>\n",
       "</div>"
      ],
      "text/plain": [
       "             Survived  Pclass                Name   Sex   Age  SibSp  Parch  \\\n",
       "PassengerId                                                                   \n",
       "1044              NaN       3  Storey, Mr. Thomas  male  60.5      0      0   \n",
       "\n",
       "            Ticket  Fare Embarked Title  \n",
       "PassengerId                              \n",
       "1044          3701   NaN        S    Mr  "
      ]
     },
     "execution_count": 30,
     "metadata": {},
     "output_type": "execute_result"
    }
   ],
   "source": [
    "titanic_full.loc[titanic_full['Fare'].isnull()]"
   ]
  },
  {
   "cell_type": "code",
   "execution_count": 31,
   "id": "standing-aruba",
   "metadata": {
    "execution": {
     "iopub.execute_input": "2021-05-19T13:59:19.620905Z",
     "iopub.status.busy": "2021-05-19T13:59:19.620416Z",
     "iopub.status.idle": "2021-05-19T13:59:19.648182Z",
     "shell.execute_reply": "2021-05-19T13:59:19.647761Z"
    },
    "papermill": {
     "duration": 0.074566,
     "end_time": "2021-05-19T13:59:19.648302",
     "exception": false,
     "start_time": "2021-05-19T13:59:19.573736",
     "status": "completed"
    },
    "tags": []
   },
   "outputs": [
    {
     "data": {
      "text/html": [
       "<div>\n",
       "<style scoped>\n",
       "    .dataframe tbody tr th:only-of-type {\n",
       "        vertical-align: middle;\n",
       "    }\n",
       "\n",
       "    .dataframe tbody tr th {\n",
       "        vertical-align: top;\n",
       "    }\n",
       "\n",
       "    .dataframe thead th {\n",
       "        text-align: right;\n",
       "    }\n",
       "</style>\n",
       "<table border=\"1\" class=\"dataframe\">\n",
       "  <thead>\n",
       "    <tr style=\"text-align: right;\">\n",
       "      <th></th>\n",
       "      <th>count</th>\n",
       "      <th>mean</th>\n",
       "      <th>std</th>\n",
       "      <th>min</th>\n",
       "      <th>25%</th>\n",
       "      <th>50%</th>\n",
       "      <th>75%</th>\n",
       "      <th>max</th>\n",
       "    </tr>\n",
       "    <tr>\n",
       "      <th>Pclass</th>\n",
       "      <th></th>\n",
       "      <th></th>\n",
       "      <th></th>\n",
       "      <th></th>\n",
       "      <th></th>\n",
       "      <th></th>\n",
       "      <th></th>\n",
       "      <th></th>\n",
       "    </tr>\n",
       "  </thead>\n",
       "  <tbody>\n",
       "    <tr>\n",
       "      <th>1</th>\n",
       "      <td>323.0</td>\n",
       "      <td>87.508992</td>\n",
       "      <td>80.447178</td>\n",
       "      <td>0.0</td>\n",
       "      <td>30.6958</td>\n",
       "      <td>60.0000</td>\n",
       "      <td>107.6625</td>\n",
       "      <td>512.3292</td>\n",
       "    </tr>\n",
       "    <tr>\n",
       "      <th>2</th>\n",
       "      <td>277.0</td>\n",
       "      <td>21.179196</td>\n",
       "      <td>13.607122</td>\n",
       "      <td>0.0</td>\n",
       "      <td>13.0000</td>\n",
       "      <td>15.0458</td>\n",
       "      <td>26.0000</td>\n",
       "      <td>73.5000</td>\n",
       "    </tr>\n",
       "    <tr>\n",
       "      <th>3</th>\n",
       "      <td>708.0</td>\n",
       "      <td>13.302889</td>\n",
       "      <td>11.494358</td>\n",
       "      <td>0.0</td>\n",
       "      <td>7.7500</td>\n",
       "      <td>8.0500</td>\n",
       "      <td>15.2458</td>\n",
       "      <td>69.5500</td>\n",
       "    </tr>\n",
       "  </tbody>\n",
       "</table>\n",
       "</div>"
      ],
      "text/plain": [
       "        count       mean        std  min      25%      50%       75%       max\n",
       "Pclass                                                                        \n",
       "1       323.0  87.508992  80.447178  0.0  30.6958  60.0000  107.6625  512.3292\n",
       "2       277.0  21.179196  13.607122  0.0  13.0000  15.0458   26.0000   73.5000\n",
       "3       708.0  13.302889  11.494358  0.0   7.7500   8.0500   15.2458   69.5500"
      ]
     },
     "execution_count": 31,
     "metadata": {},
     "output_type": "execute_result"
    }
   ],
   "source": [
    "#Finding the mean of fare for plcass3 as it has only one missing row\n",
    "p=titanic_full.groupby('Pclass').Fare\n",
    "p.describe()"
   ]
  },
  {
   "cell_type": "code",
   "execution_count": 32,
   "id": "declared-pleasure",
   "metadata": {
    "execution": {
     "iopub.execute_input": "2021-05-19T13:59:19.744694Z",
     "iopub.status.busy": "2021-05-19T13:59:19.744169Z",
     "iopub.status.idle": "2021-05-19T13:59:19.747778Z",
     "shell.execute_reply": "2021-05-19T13:59:19.748141Z"
    },
    "papermill": {
     "duration": 0.054036,
     "end_time": "2021-05-19T13:59:19.748291",
     "exception": false,
     "start_time": "2021-05-19T13:59:19.694255",
     "status": "completed"
    },
    "tags": []
   },
   "outputs": [],
   "source": [
    "titanic_full.loc[1044,'Fare']=13.302889"
   ]
  },
  {
   "cell_type": "code",
   "execution_count": 33,
   "id": "wanted-constitutional",
   "metadata": {
    "execution": {
     "iopub.execute_input": "2021-05-19T13:59:19.848006Z",
     "iopub.status.busy": "2021-05-19T13:59:19.847206Z",
     "iopub.status.idle": "2021-05-19T13:59:19.851815Z",
     "shell.execute_reply": "2021-05-19T13:59:19.851186Z"
    },
    "papermill": {
     "duration": 0.057591,
     "end_time": "2021-05-19T13:59:19.851946",
     "exception": false,
     "start_time": "2021-05-19T13:59:19.794355",
     "status": "completed"
    },
    "tags": []
   },
   "outputs": [
    {
     "data": {
      "text/plain": [
       "Survived    418\n",
       "Pclass        0\n",
       "Name          0\n",
       "Sex           0\n",
       "Age           0\n",
       "SibSp         0\n",
       "Parch         0\n",
       "Ticket        0\n",
       "Fare          0\n",
       "Embarked      0\n",
       "Title         0\n",
       "dtype: int64"
      ]
     },
     "execution_count": 33,
     "metadata": {},
     "output_type": "execute_result"
    }
   ],
   "source": [
    "# No more missing rows\n",
    "titanic_full.isnull().sum()"
   ]
  },
  {
   "cell_type": "code",
   "execution_count": 34,
   "id": "external-breeding",
   "metadata": {
    "execution": {
     "iopub.execute_input": "2021-05-19T13:59:19.997684Z",
     "iopub.status.busy": "2021-05-19T13:59:19.996949Z",
     "iopub.status.idle": "2021-05-19T13:59:19.999880Z",
     "shell.execute_reply": "2021-05-19T13:59:20.000400Z"
    },
    "papermill": {
     "duration": 0.079014,
     "end_time": "2021-05-19T13:59:20.000593",
     "exception": false,
     "start_time": "2021-05-19T13:59:19.921579",
     "status": "completed"
    },
    "tags": []
   },
   "outputs": [],
   "source": [
    "titanic_full['Age']=round(titanic_full['Age'],1)"
   ]
  },
  {
   "cell_type": "code",
   "execution_count": 35,
   "id": "fresh-retro",
   "metadata": {
    "execution": {
     "iopub.execute_input": "2021-05-19T13:59:20.156613Z",
     "iopub.status.busy": "2021-05-19T13:59:20.156123Z",
     "iopub.status.idle": "2021-05-19T13:59:20.159703Z",
     "shell.execute_reply": "2021-05-19T13:59:20.159237Z"
    },
    "papermill": {
     "duration": 0.087871,
     "end_time": "2021-05-19T13:59:20.159844",
     "exception": false,
     "start_time": "2021-05-19T13:59:20.071973",
     "status": "completed"
    },
    "tags": []
   },
   "outputs": [
    {
     "data": {
      "text/html": [
       "<div>\n",
       "<style scoped>\n",
       "    .dataframe tbody tr th:only-of-type {\n",
       "        vertical-align: middle;\n",
       "    }\n",
       "\n",
       "    .dataframe tbody tr th {\n",
       "        vertical-align: top;\n",
       "    }\n",
       "\n",
       "    .dataframe thead th {\n",
       "        text-align: right;\n",
       "    }\n",
       "</style>\n",
       "<table border=\"1\" class=\"dataframe\">\n",
       "  <thead>\n",
       "    <tr style=\"text-align: right;\">\n",
       "      <th></th>\n",
       "      <th>Survived</th>\n",
       "      <th>Pclass</th>\n",
       "      <th>Name</th>\n",
       "      <th>Sex</th>\n",
       "      <th>Age</th>\n",
       "      <th>SibSp</th>\n",
       "      <th>Parch</th>\n",
       "      <th>Ticket</th>\n",
       "      <th>Fare</th>\n",
       "      <th>Embarked</th>\n",
       "      <th>Title</th>\n",
       "    </tr>\n",
       "    <tr>\n",
       "      <th>PassengerId</th>\n",
       "      <th></th>\n",
       "      <th></th>\n",
       "      <th></th>\n",
       "      <th></th>\n",
       "      <th></th>\n",
       "      <th></th>\n",
       "      <th></th>\n",
       "      <th></th>\n",
       "      <th></th>\n",
       "      <th></th>\n",
       "      <th></th>\n",
       "    </tr>\n",
       "  </thead>\n",
       "  <tbody>\n",
       "    <tr>\n",
       "      <th>1305</th>\n",
       "      <td>NaN</td>\n",
       "      <td>3</td>\n",
       "      <td>Spector, Mr. Woolf</td>\n",
       "      <td>male</td>\n",
       "      <td>32.3</td>\n",
       "      <td>0</td>\n",
       "      <td>0</td>\n",
       "      <td>A.5. 3236</td>\n",
       "      <td>8.0500</td>\n",
       "      <td>S</td>\n",
       "      <td>Mr</td>\n",
       "    </tr>\n",
       "    <tr>\n",
       "      <th>1306</th>\n",
       "      <td>NaN</td>\n",
       "      <td>1</td>\n",
       "      <td>Oliva y Ocana, Dona. Fermina</td>\n",
       "      <td>female</td>\n",
       "      <td>39.0</td>\n",
       "      <td>0</td>\n",
       "      <td>0</td>\n",
       "      <td>PC 17758</td>\n",
       "      <td>108.9000</td>\n",
       "      <td>C</td>\n",
       "      <td>Dona</td>\n",
       "    </tr>\n",
       "    <tr>\n",
       "      <th>1307</th>\n",
       "      <td>NaN</td>\n",
       "      <td>3</td>\n",
       "      <td>Saether, Mr. Simon Sivertsen</td>\n",
       "      <td>male</td>\n",
       "      <td>38.5</td>\n",
       "      <td>0</td>\n",
       "      <td>0</td>\n",
       "      <td>SOTON/O.Q. 3101262</td>\n",
       "      <td>7.2500</td>\n",
       "      <td>S</td>\n",
       "      <td>Mr</td>\n",
       "    </tr>\n",
       "    <tr>\n",
       "      <th>1308</th>\n",
       "      <td>NaN</td>\n",
       "      <td>3</td>\n",
       "      <td>Ware, Mr. Frederick</td>\n",
       "      <td>male</td>\n",
       "      <td>32.3</td>\n",
       "      <td>0</td>\n",
       "      <td>0</td>\n",
       "      <td>359309</td>\n",
       "      <td>8.0500</td>\n",
       "      <td>S</td>\n",
       "      <td>Mr</td>\n",
       "    </tr>\n",
       "    <tr>\n",
       "      <th>1309</th>\n",
       "      <td>NaN</td>\n",
       "      <td>3</td>\n",
       "      <td>Peter, Master. Michael J</td>\n",
       "      <td>male</td>\n",
       "      <td>5.5</td>\n",
       "      <td>1</td>\n",
       "      <td>1</td>\n",
       "      <td>2668</td>\n",
       "      <td>22.3583</td>\n",
       "      <td>C</td>\n",
       "      <td>Master</td>\n",
       "    </tr>\n",
       "  </tbody>\n",
       "</table>\n",
       "</div>"
      ],
      "text/plain": [
       "             Survived  Pclass                          Name     Sex   Age  \\\n",
       "PassengerId                                                                 \n",
       "1305              NaN       3            Spector, Mr. Woolf    male  32.3   \n",
       "1306              NaN       1  Oliva y Ocana, Dona. Fermina  female  39.0   \n",
       "1307              NaN       3  Saether, Mr. Simon Sivertsen    male  38.5   \n",
       "1308              NaN       3           Ware, Mr. Frederick    male  32.3   \n",
       "1309              NaN       3      Peter, Master. Michael J    male   5.5   \n",
       "\n",
       "             SibSp  Parch              Ticket      Fare Embarked   Title  \n",
       "PassengerId                                                               \n",
       "1305             0      0           A.5. 3236    8.0500        S      Mr  \n",
       "1306             0      0            PC 17758  108.9000        C    Dona  \n",
       "1307             0      0  SOTON/O.Q. 3101262    7.2500        S      Mr  \n",
       "1308             0      0              359309    8.0500        S      Mr  \n",
       "1309             1      1                2668   22.3583        C  Master  "
      ]
     },
     "execution_count": 35,
     "metadata": {},
     "output_type": "execute_result"
    }
   ],
   "source": [
    "titanic_full.tail()"
   ]
  },
  {
   "cell_type": "code",
   "execution_count": 36,
   "id": "outside-reviewer",
   "metadata": {
    "execution": {
     "iopub.execute_input": "2021-05-19T13:59:20.279902Z",
     "iopub.status.busy": "2021-05-19T13:59:20.279358Z",
     "iopub.status.idle": "2021-05-19T13:59:20.310266Z",
     "shell.execute_reply": "2021-05-19T13:59:20.310861Z"
    },
    "papermill": {
     "duration": 0.104792,
     "end_time": "2021-05-19T13:59:20.311621",
     "exception": false,
     "start_time": "2021-05-19T13:59:20.206829",
     "status": "completed"
    },
    "tags": []
   },
   "outputs": [
    {
     "name": "stdout",
     "output_type": "stream",
     "text": [
      "(891, 11)\n",
      "(418, 11)\n"
     ]
    },
    {
     "data": {
      "text/html": [
       "<div>\n",
       "<style scoped>\n",
       "    .dataframe tbody tr th:only-of-type {\n",
       "        vertical-align: middle;\n",
       "    }\n",
       "\n",
       "    .dataframe tbody tr th {\n",
       "        vertical-align: top;\n",
       "    }\n",
       "\n",
       "    .dataframe thead th {\n",
       "        text-align: right;\n",
       "    }\n",
       "</style>\n",
       "<table border=\"1\" class=\"dataframe\">\n",
       "  <thead>\n",
       "    <tr style=\"text-align: right;\">\n",
       "      <th></th>\n",
       "      <th>Survived</th>\n",
       "      <th>Pclass</th>\n",
       "      <th>Name</th>\n",
       "      <th>Sex</th>\n",
       "      <th>Age</th>\n",
       "      <th>SibSp</th>\n",
       "      <th>Parch</th>\n",
       "      <th>Ticket</th>\n",
       "      <th>Fare</th>\n",
       "      <th>Embarked</th>\n",
       "      <th>Title</th>\n",
       "    </tr>\n",
       "    <tr>\n",
       "      <th>PassengerId</th>\n",
       "      <th></th>\n",
       "      <th></th>\n",
       "      <th></th>\n",
       "      <th></th>\n",
       "      <th></th>\n",
       "      <th></th>\n",
       "      <th></th>\n",
       "      <th></th>\n",
       "      <th></th>\n",
       "      <th></th>\n",
       "      <th></th>\n",
       "    </tr>\n",
       "  </thead>\n",
       "  <tbody>\n",
       "    <tr>\n",
       "      <th>892</th>\n",
       "      <td>NaN</td>\n",
       "      <td>3</td>\n",
       "      <td>Kelly, Mr. James</td>\n",
       "      <td>male</td>\n",
       "      <td>34.5</td>\n",
       "      <td>0</td>\n",
       "      <td>0</td>\n",
       "      <td>330911</td>\n",
       "      <td>7.8292</td>\n",
       "      <td>Q</td>\n",
       "      <td>Mr</td>\n",
       "    </tr>\n",
       "    <tr>\n",
       "      <th>893</th>\n",
       "      <td>NaN</td>\n",
       "      <td>3</td>\n",
       "      <td>Wilkes, Mrs. James (Ellen Needs)</td>\n",
       "      <td>female</td>\n",
       "      <td>47.0</td>\n",
       "      <td>1</td>\n",
       "      <td>0</td>\n",
       "      <td>363272</td>\n",
       "      <td>7.0000</td>\n",
       "      <td>S</td>\n",
       "      <td>Mrs</td>\n",
       "    </tr>\n",
       "    <tr>\n",
       "      <th>894</th>\n",
       "      <td>NaN</td>\n",
       "      <td>2</td>\n",
       "      <td>Myles, Mr. Thomas Francis</td>\n",
       "      <td>male</td>\n",
       "      <td>62.0</td>\n",
       "      <td>0</td>\n",
       "      <td>0</td>\n",
       "      <td>240276</td>\n",
       "      <td>9.6875</td>\n",
       "      <td>Q</td>\n",
       "      <td>Mr</td>\n",
       "    </tr>\n",
       "    <tr>\n",
       "      <th>895</th>\n",
       "      <td>NaN</td>\n",
       "      <td>3</td>\n",
       "      <td>Wirz, Mr. Albert</td>\n",
       "      <td>male</td>\n",
       "      <td>27.0</td>\n",
       "      <td>0</td>\n",
       "      <td>0</td>\n",
       "      <td>315154</td>\n",
       "      <td>8.6625</td>\n",
       "      <td>S</td>\n",
       "      <td>Mr</td>\n",
       "    </tr>\n",
       "    <tr>\n",
       "      <th>896</th>\n",
       "      <td>NaN</td>\n",
       "      <td>3</td>\n",
       "      <td>Hirvonen, Mrs. Alexander (Helga E Lindqvist)</td>\n",
       "      <td>female</td>\n",
       "      <td>22.0</td>\n",
       "      <td>1</td>\n",
       "      <td>1</td>\n",
       "      <td>3101298</td>\n",
       "      <td>12.2875</td>\n",
       "      <td>S</td>\n",
       "      <td>Mrs</td>\n",
       "    </tr>\n",
       "    <tr>\n",
       "      <th>...</th>\n",
       "      <td>...</td>\n",
       "      <td>...</td>\n",
       "      <td>...</td>\n",
       "      <td>...</td>\n",
       "      <td>...</td>\n",
       "      <td>...</td>\n",
       "      <td>...</td>\n",
       "      <td>...</td>\n",
       "      <td>...</td>\n",
       "      <td>...</td>\n",
       "      <td>...</td>\n",
       "    </tr>\n",
       "    <tr>\n",
       "      <th>1305</th>\n",
       "      <td>NaN</td>\n",
       "      <td>3</td>\n",
       "      <td>Spector, Mr. Woolf</td>\n",
       "      <td>male</td>\n",
       "      <td>32.3</td>\n",
       "      <td>0</td>\n",
       "      <td>0</td>\n",
       "      <td>A.5. 3236</td>\n",
       "      <td>8.0500</td>\n",
       "      <td>S</td>\n",
       "      <td>Mr</td>\n",
       "    </tr>\n",
       "    <tr>\n",
       "      <th>1306</th>\n",
       "      <td>NaN</td>\n",
       "      <td>1</td>\n",
       "      <td>Oliva y Ocana, Dona. Fermina</td>\n",
       "      <td>female</td>\n",
       "      <td>39.0</td>\n",
       "      <td>0</td>\n",
       "      <td>0</td>\n",
       "      <td>PC 17758</td>\n",
       "      <td>108.9000</td>\n",
       "      <td>C</td>\n",
       "      <td>Dona</td>\n",
       "    </tr>\n",
       "    <tr>\n",
       "      <th>1307</th>\n",
       "      <td>NaN</td>\n",
       "      <td>3</td>\n",
       "      <td>Saether, Mr. Simon Sivertsen</td>\n",
       "      <td>male</td>\n",
       "      <td>38.5</td>\n",
       "      <td>0</td>\n",
       "      <td>0</td>\n",
       "      <td>SOTON/O.Q. 3101262</td>\n",
       "      <td>7.2500</td>\n",
       "      <td>S</td>\n",
       "      <td>Mr</td>\n",
       "    </tr>\n",
       "    <tr>\n",
       "      <th>1308</th>\n",
       "      <td>NaN</td>\n",
       "      <td>3</td>\n",
       "      <td>Ware, Mr. Frederick</td>\n",
       "      <td>male</td>\n",
       "      <td>32.3</td>\n",
       "      <td>0</td>\n",
       "      <td>0</td>\n",
       "      <td>359309</td>\n",
       "      <td>8.0500</td>\n",
       "      <td>S</td>\n",
       "      <td>Mr</td>\n",
       "    </tr>\n",
       "    <tr>\n",
       "      <th>1309</th>\n",
       "      <td>NaN</td>\n",
       "      <td>3</td>\n",
       "      <td>Peter, Master. Michael J</td>\n",
       "      <td>male</td>\n",
       "      <td>5.5</td>\n",
       "      <td>1</td>\n",
       "      <td>1</td>\n",
       "      <td>2668</td>\n",
       "      <td>22.3583</td>\n",
       "      <td>C</td>\n",
       "      <td>Master</td>\n",
       "    </tr>\n",
       "  </tbody>\n",
       "</table>\n",
       "<p>418 rows × 11 columns</p>\n",
       "</div>"
      ],
      "text/plain": [
       "             Survived  Pclass                                          Name  \\\n",
       "PassengerId                                                                   \n",
       "892               NaN       3                              Kelly, Mr. James   \n",
       "893               NaN       3              Wilkes, Mrs. James (Ellen Needs)   \n",
       "894               NaN       2                     Myles, Mr. Thomas Francis   \n",
       "895               NaN       3                              Wirz, Mr. Albert   \n",
       "896               NaN       3  Hirvonen, Mrs. Alexander (Helga E Lindqvist)   \n",
       "...               ...     ...                                           ...   \n",
       "1305              NaN       3                            Spector, Mr. Woolf   \n",
       "1306              NaN       1                  Oliva y Ocana, Dona. Fermina   \n",
       "1307              NaN       3                  Saether, Mr. Simon Sivertsen   \n",
       "1308              NaN       3                           Ware, Mr. Frederick   \n",
       "1309              NaN       3                      Peter, Master. Michael J   \n",
       "\n",
       "                Sex   Age  SibSp  Parch              Ticket      Fare  \\\n",
       "PassengerId                                                             \n",
       "892            male  34.5      0      0              330911    7.8292   \n",
       "893          female  47.0      1      0              363272    7.0000   \n",
       "894            male  62.0      0      0              240276    9.6875   \n",
       "895            male  27.0      0      0              315154    8.6625   \n",
       "896          female  22.0      1      1             3101298   12.2875   \n",
       "...             ...   ...    ...    ...                 ...       ...   \n",
       "1305           male  32.3      0      0           A.5. 3236    8.0500   \n",
       "1306         female  39.0      0      0            PC 17758  108.9000   \n",
       "1307           male  38.5      0      0  SOTON/O.Q. 3101262    7.2500   \n",
       "1308           male  32.3      0      0              359309    8.0500   \n",
       "1309           male   5.5      1      1                2668   22.3583   \n",
       "\n",
       "            Embarked   Title  \n",
       "PassengerId                   \n",
       "892                Q      Mr  \n",
       "893                S     Mrs  \n",
       "894                Q      Mr  \n",
       "895                S      Mr  \n",
       "896                S     Mrs  \n",
       "...              ...     ...  \n",
       "1305               S      Mr  \n",
       "1306               C    Dona  \n",
       "1307               S      Mr  \n",
       "1308               S      Mr  \n",
       "1309               C  Master  \n",
       "\n",
       "[418 rows x 11 columns]"
      ]
     },
     "execution_count": 36,
     "metadata": {},
     "output_type": "execute_result"
    }
   ],
   "source": [
    "titanic=titanic_full.loc[1:891]\n",
    "print(titanic.shape)\n",
    "titanic_test=titanic_full.loc[892:1309]\n",
    "print(titanic_test.shape)\n",
    "titanic_test"
   ]
  },
  {
   "cell_type": "code",
   "execution_count": 37,
   "id": "double-transaction",
   "metadata": {
    "execution": {
     "iopub.execute_input": "2021-05-19T13:59:20.426588Z",
     "iopub.status.busy": "2021-05-19T13:59:20.425902Z",
     "iopub.status.idle": "2021-05-19T13:59:20.433653Z",
     "shell.execute_reply": "2021-05-19T13:59:20.434024Z"
    },
    "papermill": {
     "duration": 0.061781,
     "end_time": "2021-05-19T13:59:20.434180",
     "exception": false,
     "start_time": "2021-05-19T13:59:20.372399",
     "status": "completed"
    },
    "tags": []
   },
   "outputs": [
    {
     "name": "stderr",
     "output_type": "stream",
     "text": [
      "/opt/conda/lib/python3.7/site-packages/ipykernel_launcher.py:1: SettingWithCopyWarning: \n",
      "A value is trying to be set on a copy of a slice from a DataFrame.\n",
      "Try using .loc[row_indexer,col_indexer] = value instead\n",
      "\n",
      "See the caveats in the documentation: https://pandas.pydata.org/pandas-docs/stable/user_guide/indexing.html#returning-a-view-versus-a-copy\n",
      "  \"\"\"Entry point for launching an IPython kernel.\n"
     ]
    },
    {
     "data": {
      "text/plain": [
       "(418, 10)"
      ]
     },
     "execution_count": 37,
     "metadata": {},
     "output_type": "execute_result"
    }
   ],
   "source": [
    "titanic['Survived']=titanic['Survived'].astype(int)\n",
    "titanic_test=titanic_test.drop('Survived',axis=1)\n",
    "titanic_test.shape"
   ]
  },
  {
   "cell_type": "code",
   "execution_count": 38,
   "id": "ecological-evolution",
   "metadata": {
    "execution": {
     "iopub.execute_input": "2021-05-19T13:59:20.543665Z",
     "iopub.status.busy": "2021-05-19T13:59:20.542986Z",
     "iopub.status.idle": "2021-05-19T13:59:20.556647Z",
     "shell.execute_reply": "2021-05-19T13:59:20.556194Z"
    },
    "papermill": {
     "duration": 0.067301,
     "end_time": "2021-05-19T13:59:20.556754",
     "exception": false,
     "start_time": "2021-05-19T13:59:20.489453",
     "status": "completed"
    },
    "tags": []
   },
   "outputs": [
    {
     "data": {
      "text/html": [
       "<div>\n",
       "<style scoped>\n",
       "    .dataframe tbody tr th:only-of-type {\n",
       "        vertical-align: middle;\n",
       "    }\n",
       "\n",
       "    .dataframe tbody tr th {\n",
       "        vertical-align: top;\n",
       "    }\n",
       "\n",
       "    .dataframe thead th {\n",
       "        text-align: right;\n",
       "    }\n",
       "</style>\n",
       "<table border=\"1\" class=\"dataframe\">\n",
       "  <thead>\n",
       "    <tr style=\"text-align: right;\">\n",
       "      <th></th>\n",
       "      <th>Survived</th>\n",
       "      <th>Pclass</th>\n",
       "      <th>Name</th>\n",
       "      <th>Sex</th>\n",
       "      <th>Age</th>\n",
       "      <th>SibSp</th>\n",
       "      <th>Parch</th>\n",
       "      <th>Ticket</th>\n",
       "      <th>Fare</th>\n",
       "      <th>Embarked</th>\n",
       "      <th>Title</th>\n",
       "    </tr>\n",
       "    <tr>\n",
       "      <th>PassengerId</th>\n",
       "      <th></th>\n",
       "      <th></th>\n",
       "      <th></th>\n",
       "      <th></th>\n",
       "      <th></th>\n",
       "      <th></th>\n",
       "      <th></th>\n",
       "      <th></th>\n",
       "      <th></th>\n",
       "      <th></th>\n",
       "      <th></th>\n",
       "    </tr>\n",
       "  </thead>\n",
       "  <tbody>\n",
       "    <tr>\n",
       "      <th>1</th>\n",
       "      <td>0</td>\n",
       "      <td>3</td>\n",
       "      <td>Braund, Mr. Owen Harris</td>\n",
       "      <td>male</td>\n",
       "      <td>22.0</td>\n",
       "      <td>1</td>\n",
       "      <td>0</td>\n",
       "      <td>A/5 21171</td>\n",
       "      <td>7.2500</td>\n",
       "      <td>S</td>\n",
       "      <td>Mr</td>\n",
       "    </tr>\n",
       "    <tr>\n",
       "      <th>2</th>\n",
       "      <td>1</td>\n",
       "      <td>1</td>\n",
       "      <td>Cumings, Mrs. John Bradley (Florence Briggs Th...</td>\n",
       "      <td>female</td>\n",
       "      <td>38.0</td>\n",
       "      <td>1</td>\n",
       "      <td>0</td>\n",
       "      <td>PC 17599</td>\n",
       "      <td>71.2833</td>\n",
       "      <td>C</td>\n",
       "      <td>Mrs</td>\n",
       "    </tr>\n",
       "    <tr>\n",
       "      <th>3</th>\n",
       "      <td>1</td>\n",
       "      <td>3</td>\n",
       "      <td>Heikkinen, Miss. Laina</td>\n",
       "      <td>female</td>\n",
       "      <td>26.0</td>\n",
       "      <td>0</td>\n",
       "      <td>0</td>\n",
       "      <td>STON/O2. 3101282</td>\n",
       "      <td>7.9250</td>\n",
       "      <td>S</td>\n",
       "      <td>Miss</td>\n",
       "    </tr>\n",
       "    <tr>\n",
       "      <th>4</th>\n",
       "      <td>1</td>\n",
       "      <td>1</td>\n",
       "      <td>Futrelle, Mrs. Jacques Heath (Lily May Peel)</td>\n",
       "      <td>female</td>\n",
       "      <td>35.0</td>\n",
       "      <td>1</td>\n",
       "      <td>0</td>\n",
       "      <td>113803</td>\n",
       "      <td>53.1000</td>\n",
       "      <td>S</td>\n",
       "      <td>Mrs</td>\n",
       "    </tr>\n",
       "    <tr>\n",
       "      <th>5</th>\n",
       "      <td>0</td>\n",
       "      <td>3</td>\n",
       "      <td>Allen, Mr. William Henry</td>\n",
       "      <td>male</td>\n",
       "      <td>35.0</td>\n",
       "      <td>0</td>\n",
       "      <td>0</td>\n",
       "      <td>373450</td>\n",
       "      <td>8.0500</td>\n",
       "      <td>S</td>\n",
       "      <td>Mr</td>\n",
       "    </tr>\n",
       "  </tbody>\n",
       "</table>\n",
       "</div>"
      ],
      "text/plain": [
       "             Survived  Pclass  \\\n",
       "PassengerId                     \n",
       "1                   0       3   \n",
       "2                   1       1   \n",
       "3                   1       3   \n",
       "4                   1       1   \n",
       "5                   0       3   \n",
       "\n",
       "                                                          Name     Sex   Age  \\\n",
       "PassengerId                                                                    \n",
       "1                                      Braund, Mr. Owen Harris    male  22.0   \n",
       "2            Cumings, Mrs. John Bradley (Florence Briggs Th...  female  38.0   \n",
       "3                                       Heikkinen, Miss. Laina  female  26.0   \n",
       "4                 Futrelle, Mrs. Jacques Heath (Lily May Peel)  female  35.0   \n",
       "5                                     Allen, Mr. William Henry    male  35.0   \n",
       "\n",
       "             SibSp  Parch            Ticket     Fare Embarked Title  \n",
       "PassengerId                                                          \n",
       "1                1      0         A/5 21171   7.2500        S    Mr  \n",
       "2                1      0          PC 17599  71.2833        C   Mrs  \n",
       "3                0      0  STON/O2. 3101282   7.9250        S  Miss  \n",
       "4                1      0            113803  53.1000        S   Mrs  \n",
       "5                0      0            373450   8.0500        S    Mr  "
      ]
     },
     "execution_count": 38,
     "metadata": {},
     "output_type": "execute_result"
    }
   ],
   "source": [
    "titanic.head()"
   ]
  },
  {
   "cell_type": "code",
   "execution_count": 39,
   "id": "several-behalf",
   "metadata": {
    "execution": {
     "iopub.execute_input": "2021-05-19T13:59:20.665830Z",
     "iopub.status.busy": "2021-05-19T13:59:20.665081Z",
     "iopub.status.idle": "2021-05-19T13:59:20.856833Z",
     "shell.execute_reply": "2021-05-19T13:59:20.855520Z"
    },
    "papermill": {
     "duration": 0.249759,
     "end_time": "2021-05-19T13:59:20.857016",
     "exception": false,
     "start_time": "2021-05-19T13:59:20.607257",
     "status": "completed"
    },
    "tags": []
   },
   "outputs": [
    {
     "data": {
      "text/plain": [
       "Text(0.5, 1.0, 'Survival comparision based on gender')"
      ]
     },
     "execution_count": 39,
     "metadata": {},
     "output_type": "execute_result"
    },
    {
     "data": {
      "image/png": "[encoded data removed]",
      "text/plain": [
       "<Figure size 648x360 with 1 Axes>"
      ]
     },
     "metadata": {
      "needs_background": "light"
     },
     "output_type": "display_data"
    }
   ],
   "source": [
    "plt.figure(figsize=(9,5))\n",
    "sns.set_style('darkgrid')\n",
    "sns.countplot(x=titanic['Sex'],hue=titanic['Survived'])\n",
    "plt.title('Survival comparision based on gender')"
   ]
  },
  {
   "cell_type": "code",
   "execution_count": 40,
   "id": "banned-ontario",
   "metadata": {
    "execution": {
     "iopub.execute_input": "2021-05-19T13:59:21.015833Z",
     "iopub.status.busy": "2021-05-19T13:59:21.014936Z",
     "iopub.status.idle": "2021-05-19T13:59:21.167869Z",
     "shell.execute_reply": "2021-05-19T13:59:21.167194Z"
    },
    "papermill": {
     "duration": 0.234488,
     "end_time": "2021-05-19T13:59:21.168001",
     "exception": false,
     "start_time": "2021-05-19T13:59:20.933513",
     "status": "completed"
    },
    "tags": []
   },
   "outputs": [
    {
     "data": {
      "text/plain": [
       "Text(0.5, 1.0, 'Survival comparision based on Pclass')"
      ]
     },
     "execution_count": 40,
     "metadata": {},
     "output_type": "execute_result"
    },
    {
     "data": {
      "image/png": "[encoded data removed]",
      "text/plain": [
       "<Figure size 648x360 with 1 Axes>"
      ]
     },
     "metadata": {},
     "output_type": "display_data"
    }
   ],
   "source": [
    "plt.figure(figsize=(9,5))\n",
    "sns.countplot(x=titanic['Pclass'],hue=titanic['Survived'])\n",
    "plt.title('Survival comparision based on Pclass')"
   ]
  },
  {
   "cell_type": "code",
   "execution_count": 41,
   "id": "regulated-headline",
   "metadata": {
    "execution": {
     "iopub.execute_input": "2021-05-19T13:59:21.440732Z",
     "iopub.status.busy": "2021-05-19T13:59:21.333190Z",
     "iopub.status.idle": "2021-05-19T13:59:21.570408Z",
     "shell.execute_reply": "2021-05-19T13:59:21.569901Z"
    },
    "papermill": {
     "duration": 0.323165,
     "end_time": "2021-05-19T13:59:21.570521",
     "exception": false,
     "start_time": "2021-05-19T13:59:21.247356",
     "status": "completed"
    },
    "tags": []
   },
   "outputs": [
    {
     "data": {
      "text/plain": [
       "Text(0.5, 1.0, 'Population based on Pclass')"
      ]
     },
     "execution_count": 41,
     "metadata": {},
     "output_type": "execute_result"
    },
    {
     "data": {
      "image/png": "[encoded data removed]",
      "text/plain": [
       "<Figure size 648x360 with 1 Axes>"
      ]
     },
     "metadata": {},
     "output_type": "display_data"
    }
   ],
   "source": [
    "plt.figure(figsize=(9,5))\n",
    "sns.countplot(x=titanic['Pclass'],hue=titanic['Sex'])\n",
    "plt.title('Population based on Pclass')"
   ]
  },
  {
   "cell_type": "code",
   "execution_count": 42,
   "id": "suitable-twelve",
   "metadata": {
    "execution": {
     "iopub.execute_input": "2021-05-19T13:59:21.684175Z",
     "iopub.status.busy": "2021-05-19T13:59:21.681966Z",
     "iopub.status.idle": "2021-05-19T13:59:21.844235Z",
     "shell.execute_reply": "2021-05-19T13:59:21.843631Z"
    },
    "papermill": {
     "duration": 0.221291,
     "end_time": "2021-05-19T13:59:21.844396",
     "exception": false,
     "start_time": "2021-05-19T13:59:21.623105",
     "status": "completed"
    },
    "tags": []
   },
   "outputs": [
    {
     "data": {
      "text/plain": [
       "Text(0.5, 1.0, 'Embarked')"
      ]
     },
     "execution_count": 42,
     "metadata": {},
     "output_type": "execute_result"
    },
    {
     "data": {
      "image/png": "[encoded data removed]",
      "text/plain": [
       "<Figure size 648x360 with 1 Axes>"
      ]
     },
     "metadata": {},
     "output_type": "display_data"
    }
   ],
   "source": [
    "plt.figure(figsize=(9,5))\n",
    "sns.countplot(x=titanic['Pclass'],hue=titanic['Embarked'])\n",
    "plt.title('Embarked')"
   ]
  },
  {
   "cell_type": "code",
   "execution_count": 43,
   "id": "following-george",
   "metadata": {
    "execution": {
     "iopub.execute_input": "2021-05-19T13:59:22.037515Z",
     "iopub.status.busy": "2021-05-19T13:59:22.034612Z",
     "iopub.status.idle": "2021-05-19T13:59:22.158406Z",
     "shell.execute_reply": "2021-05-19T13:59:22.157757Z"
    },
    "papermill": {
     "duration": 0.233504,
     "end_time": "2021-05-19T13:59:22.158549",
     "exception": false,
     "start_time": "2021-05-19T13:59:21.925045",
     "status": "completed"
    },
    "tags": []
   },
   "outputs": [
    {
     "data": {
      "text/plain": [
       "Text(0.5, 1.0, 'Number of male and female embarked')"
      ]
     },
     "execution_count": 43,
     "metadata": {},
     "output_type": "execute_result"
    },
    {
     "data": {
      "image/png": "[encoded data removed]",
      "text/plain": [
       "<Figure size 648x360 with 1 Axes>"
      ]
     },
     "metadata": {},
     "output_type": "display_data"
    }
   ],
   "source": [
    "plt.figure(figsize=(9,5))\n",
    "sns.countplot(x=titanic['Sex'],hue=titanic['Embarked'])\n",
    "plt.title('Number of male and female embarked')"
   ]
  },
  {
   "cell_type": "code",
   "execution_count": 44,
   "id": "african-meaning",
   "metadata": {
    "execution": {
     "iopub.execute_input": "2021-05-19T13:59:22.332679Z",
     "iopub.status.busy": "2021-05-19T13:59:22.329569Z",
     "iopub.status.idle": "2021-05-19T13:59:22.461474Z",
     "shell.execute_reply": "2021-05-19T13:59:22.461062Z"
    },
    "papermill": {
     "duration": 0.220495,
     "end_time": "2021-05-19T13:59:22.461588",
     "exception": false,
     "start_time": "2021-05-19T13:59:22.241093",
     "status": "completed"
    },
    "tags": []
   },
   "outputs": [
    {
     "data": {
      "text/plain": [
       "Text(0.5, 1.0, 'Age vs Gender')"
      ]
     },
     "execution_count": 44,
     "metadata": {},
     "output_type": "execute_result"
    },
    {
     "data": {
      "image/png": "[encoded data removed]",
      "text/plain": [
       "<Figure size 648x360 with 1 Axes>"
      ]
     },
     "metadata": {},
     "output_type": "display_data"
    }
   ],
   "source": [
    "plt.figure(figsize=(9,5))\n",
    "sns.stripplot(x=titanic['Sex'],y=titanic['Age'])\n",
    "plt.title('Age vs Gender')"
   ]
  },
  {
   "cell_type": "code",
   "execution_count": 45,
   "id": "immune-somerset",
   "metadata": {
    "execution": {
     "iopub.execute_input": "2021-05-19T13:59:22.580642Z",
     "iopub.status.busy": "2021-05-19T13:59:22.579167Z",
     "iopub.status.idle": "2021-05-19T13:59:22.744093Z",
     "shell.execute_reply": "2021-05-19T13:59:22.743545Z"
    },
    "papermill": {
     "duration": 0.225971,
     "end_time": "2021-05-19T13:59:22.744228",
     "exception": false,
     "start_time": "2021-05-19T13:59:22.518257",
     "status": "completed"
    },
    "tags": []
   },
   "outputs": [
    {
     "data": {
      "text/plain": [
       "Text(0.5, 1.0, 'Fare vs Pclass')"
      ]
     },
     "execution_count": 45,
     "metadata": {},
     "output_type": "execute_result"
    },
    {
     "data": {
      "image/png": "[encoded data removed]",
      "text/plain": [
       "<Figure size 648x360 with 1 Axes>"
      ]
     },
     "metadata": {},
     "output_type": "display_data"
    }
   ],
   "source": [
    "plt.figure(figsize=(9,5))\n",
    "sns.stripplot(x=titanic['Pclass'],y=titanic['Fare'])\n",
    "plt.title('Fare vs Pclass')"
   ]
  },
  {
   "cell_type": "code",
   "execution_count": 46,
   "id": "responsible-setup",
   "metadata": {
    "execution": {
     "iopub.execute_input": "2021-05-19T13:59:22.916473Z",
     "iopub.status.busy": "2021-05-19T13:59:22.915632Z",
     "iopub.status.idle": "2021-05-19T13:59:22.917552Z",
     "shell.execute_reply": "2021-05-19T13:59:22.918022Z"
    },
    "papermill": {
     "duration": 0.090267,
     "end_time": "2021-05-19T13:59:22.918182",
     "exception": false,
     "start_time": "2021-05-19T13:59:22.827915",
     "status": "completed"
    },
    "tags": []
   },
   "outputs": [],
   "source": [
    "# Now finding how many survived from a particular class based on gender"
   ]
  },
  {
   "cell_type": "code",
   "execution_count": 47,
   "id": "tamil-blade",
   "metadata": {
    "execution": {
     "iopub.execute_input": "2021-05-19T13:59:23.091287Z",
     "iopub.status.busy": "2021-05-19T13:59:23.090457Z",
     "iopub.status.idle": "2021-05-19T13:59:23.224238Z",
     "shell.execute_reply": "2021-05-19T13:59:23.223724Z"
    },
    "papermill": {
     "duration": 0.22177,
     "end_time": "2021-05-19T13:59:23.224380",
     "exception": false,
     "start_time": "2021-05-19T13:59:23.002610",
     "status": "completed"
    },
    "tags": []
   },
   "outputs": [
    {
     "data": {
      "text/plain": [
       "Text(0.5, 1.0, 'Survival comparision based on Gender from Class 1')"
      ]
     },
     "execution_count": 47,
     "metadata": {},
     "output_type": "execute_result"
    },
    {
     "data": {
      "image/png": "[encoded data removed]",
      "text/plain": [
       "<Figure size 648x360 with 1 Axes>"
      ]
     },
     "metadata": {},
     "output_type": "display_data"
    }
   ],
   "source": [
    "df=titanic[titanic['Pclass']==1]\n",
    "plt.figure(figsize=(9,5))\n",
    "sns.countplot(x=df['Sex'],hue=df['Survived'])\n",
    "plt.title('Survival comparision based on Gender from Class 1')"
   ]
  },
  {
   "cell_type": "code",
   "execution_count": 48,
   "id": "novel-strategy",
   "metadata": {
    "execution": {
     "iopub.execute_input": "2021-05-19T13:59:23.372419Z",
     "iopub.status.busy": "2021-05-19T13:59:23.370847Z",
     "iopub.status.idle": "2021-05-19T13:59:23.484386Z",
     "shell.execute_reply": "2021-05-19T13:59:23.484767Z"
    },
    "papermill": {
     "duration": 0.199678,
     "end_time": "2021-05-19T13:59:23.484918",
     "exception": false,
     "start_time": "2021-05-19T13:59:23.285240",
     "status": "completed"
    },
    "tags": []
   },
   "outputs": [
    {
     "data": {
      "text/plain": [
       "Text(0.5, 1.0, 'Survival comparision based on Gender from Class 2')"
      ]
     },
     "execution_count": 48,
     "metadata": {},
     "output_type": "execute_result"
    },
    {
     "data": {
      "image/png": "[encoded data removed]",
      "text/plain": [
       "<Figure size 648x360 with 1 Axes>"
      ]
     },
     "metadata": {},
     "output_type": "display_data"
    }
   ],
   "source": [
    "df=titanic[titanic['Pclass']==2]\n",
    "plt.figure(figsize=(9,5))\n",
    "sns.countplot(x=df['Sex'],hue=df['Survived'])\n",
    "plt.title('Survival comparision based on Gender from Class 2')"
   ]
  },
  {
   "cell_type": "code",
   "execution_count": 49,
   "id": "literary-greenhouse",
   "metadata": {
    "execution": {
     "iopub.execute_input": "2021-05-19T13:59:23.614445Z",
     "iopub.status.busy": "2021-05-19T13:59:23.613924Z",
     "iopub.status.idle": "2021-05-19T13:59:23.762622Z",
     "shell.execute_reply": "2021-05-19T13:59:23.763008Z"
    },
    "papermill": {
     "duration": 0.21849,
     "end_time": "2021-05-19T13:59:23.763165",
     "exception": false,
     "start_time": "2021-05-19T13:59:23.544675",
     "status": "completed"
    },
    "tags": []
   },
   "outputs": [
    {
     "data": {
      "text/plain": [
       "Text(0.5, 1.0, 'Survival comparision based on Gender from Class 3')"
      ]
     },
     "execution_count": 49,
     "metadata": {},
     "output_type": "execute_result"
    },
    {
     "data": {
      "image/png": "[encoded data removed]",
      "text/plain": [
       "<Figure size 648x360 with 1 Axes>"
      ]
     },
     "metadata": {},
     "output_type": "display_data"
    }
   ],
   "source": [
    "df=titanic[titanic['Pclass']==3]\n",
    "plt.figure(figsize=(9,5))\n",
    "sns.countplot(x=df['Sex'],hue=df['Survived'])\n",
    "plt.title('Survival comparision based on Gender from Class 3')"
   ]
  },
  {
   "cell_type": "code",
   "execution_count": 50,
   "id": "weird-register",
   "metadata": {
    "execution": {
     "iopub.execute_input": "2021-05-19T13:59:23.890589Z",
     "iopub.status.busy": "2021-05-19T13:59:23.890076Z",
     "iopub.status.idle": "2021-05-19T13:59:25.416236Z",
     "shell.execute_reply": "2021-05-19T13:59:25.415854Z"
    },
    "papermill": {
     "duration": 1.593214,
     "end_time": "2021-05-19T13:59:25.416378",
     "exception": false,
     "start_time": "2021-05-19T13:59:23.823164",
     "status": "completed"
    },
    "tags": []
   },
   "outputs": [
    {
     "data": {
      "image/png": "[encoded data removed]",
      "text/plain": [
       "<Figure size 504x288 with 1 Axes>"
      ]
     },
     "metadata": {},
     "output_type": "display_data"
    },
    {
     "data": {
      "image/png": "[encoded data removed]",
      "text/plain": [
       "<Figure size 504x288 with 1 Axes>"
      ]
     },
     "metadata": {},
     "output_type": "display_data"
    },
    {
     "data": {
      "image/png": "[encoded data removed]",
      "text/plain": [
       "<Figure size 504x288 with 1 Axes>"
      ]
     },
     "metadata": {},
     "output_type": "display_data"
    },
    {
     "data": {
      "image/png": "[encoded data removed]",
      "text/plain": [
       "<Figure size 504x288 with 1 Axes>"
      ]
     },
     "metadata": {},
     "output_type": "display_data"
    },
    {
     "data": {
      "image/png": "[encoded data removed]",
      "text/plain": [
       "<Figure size 504x288 with 1 Axes>"
      ]
     },
     "metadata": {},
     "output_type": "display_data"
    },
    {
     "data": {
      "image/png": "[encoded data removed]",
      "text/plain": [
       "<Figure size 504x288 with 1 Axes>"
      ]
     },
     "metadata": {},
     "output_type": "display_data"
    },
    {
     "data": {
      "image/png": "[encoded data removed]",
      "text/plain": [
       "<Figure size 504x288 with 1 Axes>"
      ]
     },
     "metadata": {},
     "output_type": "display_data"
    },
    {
     "data": {
      "image/png": "[encoded data removed]",
      "text/plain": [
       "<Figure size 504x288 with 1 Axes>"
      ]
     },
     "metadata": {},
     "output_type": "display_data"
    },
    {
     "data": {
      "image/png": "[encoded data removed]",
      "text/plain": [
       "<Figure size 504x288 with 1 Axes>"
      ]
     },
     "metadata": {},
     "output_type": "display_data"
    },
    {
     "data": {
      "image/png": "[encoded data removed]",
      "text/plain": [
       "<Figure size 504x288 with 1 Axes>"
      ]
     },
     "metadata": {},
     "output_type": "display_data"
    },
    {
     "data": {
      "image/png": "[encoded data removed]",
      "text/plain": [
       "<Figure size 504x288 with 1 Axes>"
      ]
     },
     "metadata": {},
     "output_type": "display_data"
    },
    {
     "data": {
      "image/png": "[encoded data removed]",
      "text/plain": [
       "<Figure size 504x288 with 1 Axes>"
      ]
     },
     "metadata": {},
     "output_type": "display_data"
    },
    {
     "data": {
      "image/png": "[encoded data removed]",
      "text/plain": [
       "<Figure size 504x288 with 1 Axes>"
      ]
     },
     "metadata": {},
     "output_type": "display_data"
    },
    {
     "data": {
      "image/png": "[encoded data removed]",
      "text/plain": [
       "<Figure size 504x288 with 1 Axes>"
      ]
     },
     "metadata": {},
     "output_type": "display_data"
    }
   ],
   "source": [
    "# Survival comparision based on Title\n",
    "titles=titanic['Title'].unique()\n",
    "for title in titles:\n",
    "    plt.figure(figsize=(7,4))\n",
    "    df=titanic[titanic['Title']==title]\n",
    "\n",
    "    sns.countplot(x=df['Title'],hue=df['Survived'])\n",
    "    plt.title('Survival of people with title - {}'.format(title))"
   ]
  },
  {
   "cell_type": "code",
   "execution_count": 51,
   "id": "adjacent-sleep",
   "metadata": {
    "execution": {
     "iopub.execute_input": "2021-05-19T13:59:25.566508Z",
     "iopub.status.busy": "2021-05-19T13:59:25.566004Z",
     "iopub.status.idle": "2021-05-19T13:59:25.571382Z",
     "shell.execute_reply": "2021-05-19T13:59:25.570778Z"
    },
    "papermill": {
     "duration": 0.086704,
     "end_time": "2021-05-19T13:59:25.571521",
     "exception": false,
     "start_time": "2021-05-19T13:59:25.484817",
     "status": "completed"
    },
    "tags": []
   },
   "outputs": [
    {
     "data": {
      "text/html": [
       "<div>\n",
       "<style scoped>\n",
       "    .dataframe tbody tr th:only-of-type {\n",
       "        vertical-align: middle;\n",
       "    }\n",
       "\n",
       "    .dataframe tbody tr th {\n",
       "        vertical-align: top;\n",
       "    }\n",
       "\n",
       "    .dataframe thead th {\n",
       "        text-align: right;\n",
       "    }\n",
       "</style>\n",
       "<table border=\"1\" class=\"dataframe\">\n",
       "  <thead>\n",
       "    <tr style=\"text-align: right;\">\n",
       "      <th></th>\n",
       "      <th>Survived</th>\n",
       "      <th>Pclass</th>\n",
       "      <th>Name</th>\n",
       "      <th>Sex</th>\n",
       "      <th>Age</th>\n",
       "      <th>SibSp</th>\n",
       "      <th>Parch</th>\n",
       "      <th>Ticket</th>\n",
       "      <th>Fare</th>\n",
       "      <th>Embarked</th>\n",
       "      <th>Title</th>\n",
       "    </tr>\n",
       "    <tr>\n",
       "      <th>PassengerId</th>\n",
       "      <th></th>\n",
       "      <th></th>\n",
       "      <th></th>\n",
       "      <th></th>\n",
       "      <th></th>\n",
       "      <th></th>\n",
       "      <th></th>\n",
       "      <th></th>\n",
       "      <th></th>\n",
       "      <th></th>\n",
       "      <th></th>\n",
       "    </tr>\n",
       "  </thead>\n",
       "  <tbody>\n",
       "    <tr>\n",
       "      <th>1</th>\n",
       "      <td>0</td>\n",
       "      <td>3</td>\n",
       "      <td>Braund, Mr. Owen Harris</td>\n",
       "      <td>male</td>\n",
       "      <td>22.0</td>\n",
       "      <td>1</td>\n",
       "      <td>0</td>\n",
       "      <td>A/5 21171</td>\n",
       "      <td>7.2500</td>\n",
       "      <td>S</td>\n",
       "      <td>Mr</td>\n",
       "    </tr>\n",
       "    <tr>\n",
       "      <th>2</th>\n",
       "      <td>1</td>\n",
       "      <td>1</td>\n",
       "      <td>Cumings, Mrs. John Bradley (Florence Briggs Th...</td>\n",
       "      <td>female</td>\n",
       "      <td>38.0</td>\n",
       "      <td>1</td>\n",
       "      <td>0</td>\n",
       "      <td>PC 17599</td>\n",
       "      <td>71.2833</td>\n",
       "      <td>C</td>\n",
       "      <td>Mrs</td>\n",
       "    </tr>\n",
       "    <tr>\n",
       "      <th>3</th>\n",
       "      <td>1</td>\n",
       "      <td>3</td>\n",
       "      <td>Heikkinen, Miss. Laina</td>\n",
       "      <td>female</td>\n",
       "      <td>26.0</td>\n",
       "      <td>0</td>\n",
       "      <td>0</td>\n",
       "      <td>STON/O2. 3101282</td>\n",
       "      <td>7.9250</td>\n",
       "      <td>S</td>\n",
       "      <td>Miss</td>\n",
       "    </tr>\n",
       "    <tr>\n",
       "      <th>4</th>\n",
       "      <td>1</td>\n",
       "      <td>1</td>\n",
       "      <td>Futrelle, Mrs. Jacques Heath (Lily May Peel)</td>\n",
       "      <td>female</td>\n",
       "      <td>35.0</td>\n",
       "      <td>1</td>\n",
       "      <td>0</td>\n",
       "      <td>113803</td>\n",
       "      <td>53.1000</td>\n",
       "      <td>S</td>\n",
       "      <td>Mrs</td>\n",
       "    </tr>\n",
       "    <tr>\n",
       "      <th>5</th>\n",
       "      <td>0</td>\n",
       "      <td>3</td>\n",
       "      <td>Allen, Mr. William Henry</td>\n",
       "      <td>male</td>\n",
       "      <td>35.0</td>\n",
       "      <td>0</td>\n",
       "      <td>0</td>\n",
       "      <td>373450</td>\n",
       "      <td>8.0500</td>\n",
       "      <td>S</td>\n",
       "      <td>Mr</td>\n",
       "    </tr>\n",
       "  </tbody>\n",
       "</table>\n",
       "</div>"
      ],
      "text/plain": [
       "             Survived  Pclass  \\\n",
       "PassengerId                     \n",
       "1                   0       3   \n",
       "2                   1       1   \n",
       "3                   1       3   \n",
       "4                   1       1   \n",
       "5                   0       3   \n",
       "\n",
       "                                                          Name     Sex   Age  \\\n",
       "PassengerId                                                                    \n",
       "1                                      Braund, Mr. Owen Harris    male  22.0   \n",
       "2            Cumings, Mrs. John Bradley (Florence Briggs Th...  female  38.0   \n",
       "3                                       Heikkinen, Miss. Laina  female  26.0   \n",
       "4                 Futrelle, Mrs. Jacques Heath (Lily May Peel)  female  35.0   \n",
       "5                                     Allen, Mr. William Henry    male  35.0   \n",
       "\n",
       "             SibSp  Parch            Ticket     Fare Embarked Title  \n",
       "PassengerId                                                          \n",
       "1                1      0         A/5 21171   7.2500        S    Mr  \n",
       "2                1      0          PC 17599  71.2833        C   Mrs  \n",
       "3                0      0  STON/O2. 3101282   7.9250        S  Miss  \n",
       "4                1      0            113803  53.1000        S   Mrs  \n",
       "5                0      0            373450   8.0500        S    Mr  "
      ]
     },
     "execution_count": 51,
     "metadata": {},
     "output_type": "execute_result"
    }
   ],
   "source": [
    "titanic.head()"
   ]
  },
  {
   "cell_type": "code",
   "execution_count": 52,
   "id": "coupled-trick",
   "metadata": {
    "execution": {
     "iopub.execute_input": "2021-05-19T13:59:25.784821Z",
     "iopub.status.busy": "2021-05-19T13:59:25.782476Z",
     "iopub.status.idle": "2021-05-19T13:59:25.789056Z",
     "shell.execute_reply": "2021-05-19T13:59:25.789559Z"
    },
    "papermill": {
     "duration": 0.115286,
     "end_time": "2021-05-19T13:59:25.789746",
     "exception": false,
     "start_time": "2021-05-19T13:59:25.674460",
     "status": "completed"
    },
    "tags": []
   },
   "outputs": [],
   "source": [
    "titanic=titanic.drop(['Name','Ticket','Title','Fare'],axis=1)\n",
    "titanic_test=titanic_test.drop(['Name','Ticket','Title','Fare'],axis=1)\n",
    "t=titanic['Sex'].map({'male':0,'female':1})\n",
    "titanic['Sex']=t\n"
   ]
  },
  {
   "cell_type": "code",
   "execution_count": 53,
   "id": "surprising-clone",
   "metadata": {
    "execution": {
     "iopub.execute_input": "2021-05-19T13:59:25.996772Z",
     "iopub.status.busy": "2021-05-19T13:59:25.996062Z",
     "iopub.status.idle": "2021-05-19T13:59:25.998835Z",
     "shell.execute_reply": "2021-05-19T13:59:25.998147Z"
    },
    "papermill": {
     "duration": 0.10813,
     "end_time": "2021-05-19T13:59:25.998981",
     "exception": false,
     "start_time": "2021-05-19T13:59:25.890851",
     "status": "completed"
    },
    "tags": []
   },
   "outputs": [],
   "source": [
    "test=titanic_test['Sex'].map({'male':0,'female':1})\n",
    "titanic_test['Sex']=test"
   ]
  },
  {
   "cell_type": "code",
   "execution_count": 54,
   "id": "superior-native",
   "metadata": {
    "execution": {
     "iopub.execute_input": "2021-05-19T13:59:26.216165Z",
     "iopub.status.busy": "2021-05-19T13:59:26.210022Z",
     "iopub.status.idle": "2021-05-19T13:59:26.219298Z",
     "shell.execute_reply": "2021-05-19T13:59:26.218860Z"
    },
    "papermill": {
     "duration": 0.117477,
     "end_time": "2021-05-19T13:59:26.219443",
     "exception": false,
     "start_time": "2021-05-19T13:59:26.101966",
     "status": "completed"
    },
    "tags": []
   },
   "outputs": [],
   "source": [
    "embarked_dummies=pd.get_dummies(titanic.Embarked,prefix='Embarked')\n",
    "embarked_dummies_test=pd.get_dummies(titanic_test.Embarked,prefix='Embarked')\n",
    "\n",
    "titanic=pd.concat([titanic,embarked_dummies],axis=1)\n",
    "titanic_test=pd.concat([titanic_test,embarked_dummies_test],axis=1)\n",
    "\n",
    "titanic=titanic.drop('Embarked',axis=1)\n",
    "titanic_test=titanic_test.drop('Embarked',axis=1)"
   ]
  },
  {
   "cell_type": "code",
   "execution_count": 55,
   "id": "pressing-cheese",
   "metadata": {
    "execution": {
     "iopub.execute_input": "2021-05-19T13:59:26.366589Z",
     "iopub.status.busy": "2021-05-19T13:59:26.366043Z",
     "iopub.status.idle": "2021-05-19T13:59:26.371388Z",
     "shell.execute_reply": "2021-05-19T13:59:26.370895Z"
    },
    "papermill": {
     "duration": 0.080428,
     "end_time": "2021-05-19T13:59:26.371502",
     "exception": false,
     "start_time": "2021-05-19T13:59:26.291074",
     "status": "completed"
    },
    "tags": []
   },
   "outputs": [],
   "source": [
    "from sklearn.model_selection import train_test_split\n",
    "X_train, X_test, y_train, y_test = train_test_split(titanic.loc[:,titanic.columns!='Survived'],titanic['Survived'], \n",
    "                test_size = 0.18, random_state = 78)"
   ]
  },
  {
   "cell_type": "markdown",
   "id": "signed-developer",
   "metadata": {
    "papermill": {
     "duration": 0.070698,
     "end_time": "2021-05-19T13:59:26.512964",
     "exception": false,
     "start_time": "2021-05-19T13:59:26.442266",
     "status": "completed"
    },
    "tags": []
   },
   "source": [
    "# Models"
   ]
  },
  {
   "cell_type": "code",
   "execution_count": 56,
   "id": "baking-filling",
   "metadata": {
    "execution": {
     "iopub.execute_input": "2021-05-19T13:59:26.663029Z",
     "iopub.status.busy": "2021-05-19T13:59:26.662495Z",
     "iopub.status.idle": "2021-05-19T13:59:26.839374Z",
     "shell.execute_reply": "2021-05-19T13:59:26.838646Z"
    },
    "papermill": {
     "duration": 0.253637,
     "end_time": "2021-05-19T13:59:26.839544",
     "exception": false,
     "start_time": "2021-05-19T13:59:26.585907",
     "status": "completed"
    },
    "tags": []
   },
   "outputs": [
    {
     "name": "stdout",
     "output_type": "stream",
     "text": [
      "0.8260869565217391\n",
      "0.17391304347826086\n",
      "              precision    recall  f1-score   support\n",
      "\n",
      "           0       0.93      0.81      0.86       108\n",
      "           1       0.69      0.87      0.77        53\n",
      "\n",
      "    accuracy                           0.83       161\n",
      "   macro avg       0.81      0.84      0.81       161\n",
      "weighted avg       0.85      0.83      0.83       161\n",
      "\n",
      "[[87 21]\n",
      " [ 7 46]]\n"
     ]
    }
   ],
   "source": [
    "#Logistic Regression\n",
    "from sklearn.linear_model import LogisticRegression\n",
    "from sklearn.metrics import accuracy_score,classification_report, confusion_matrix,mean_absolute_error\n",
    "lr=LogisticRegression(penalty='l2',max_iter=1000)\n",
    "lr.fit(X_train,y_train)\n",
    "predictions=lr.predict(X_test)\n",
    "acc=accuracy_score(y_test,predictions)\n",
    "print(acc)\n",
    "mae=mean_absolute_error(y_test,predictions)\n",
    "print(mae)\n",
    "print(classification_report(y_test,predictions))\n",
    "print(confusion_matrix(y_test,predictions))"
   ]
  },
  {
   "cell_type": "code",
   "execution_count": 57,
   "id": "cutting-anchor",
   "metadata": {
    "execution": {
     "iopub.execute_input": "2021-05-19T13:59:27.062549Z",
     "iopub.status.busy": "2021-05-19T13:59:27.061778Z",
     "iopub.status.idle": "2021-05-19T13:59:27.114950Z",
     "shell.execute_reply": "2021-05-19T13:59:27.114381Z"
    },
    "papermill": {
     "duration": 0.166927,
     "end_time": "2021-05-19T13:59:27.115113",
     "exception": false,
     "start_time": "2021-05-19T13:59:26.948186",
     "status": "completed"
    },
    "tags": []
   },
   "outputs": [
    {
     "name": "stdout",
     "output_type": "stream",
     "text": [
      "0.8633540372670807\n",
      "              precision    recall  f1-score   support\n",
      "\n",
      "           0       0.91      0.89      0.90       108\n",
      "           1       0.78      0.81      0.80        53\n",
      "\n",
      "    accuracy                           0.86       161\n",
      "   macro avg       0.84      0.85      0.85       161\n",
      "weighted avg       0.86      0.86      0.86       161\n",
      "\n",
      "[[96 12]\n",
      " [10 43]]\n"
     ]
    }
   ],
   "source": [
    "#SVC\n",
    "from sklearn.svm import SVC\n",
    "svc=SVC(C= 100, gamma= 0.01,kernel= 'rbf')\n",
    "svc.fit(X_train,y_train)\n",
    "predictions=svc.predict(X_test)\n",
    "acc=accuracy_score(y_test,predictions)\n",
    "print(acc)\n",
    "print(classification_report(y_test,predictions))\n",
    "print(confusion_matrix(y_test,predictions))"
   ]
  },
  {
   "cell_type": "code",
   "execution_count": 58,
   "id": "killing-nicaragua",
   "metadata": {
    "execution": {
     "iopub.execute_input": "2021-05-19T13:59:27.332572Z",
     "iopub.status.busy": "2021-05-19T13:59:27.331902Z",
     "iopub.status.idle": "2021-05-19T13:59:31.534931Z",
     "shell.execute_reply": "2021-05-19T13:59:31.534198Z"
    },
    "papermill": {
     "duration": 4.315121,
     "end_time": "2021-05-19T13:59:31.535135",
     "exception": false,
     "start_time": "2021-05-19T13:59:27.220014",
     "status": "completed"
    },
    "tags": []
   },
   "outputs": [
    {
     "name": "stdout",
     "output_type": "stream",
     "text": [
      "{'C': 100, 'gamma': 0.01, 'kernel': 'rbf'}\n",
      "SVC(C=100, gamma=0.01)\n"
     ]
    }
   ],
   "source": [
    "#Using GridSearch for svc \n",
    "from sklearn.model_selection import GridSearchCV\n",
    "  \n",
    "\n",
    "param_grid = {'C': [0.1, 1, 10, 100, 1000], \n",
    "              'gamma': [1, 0.1, 0.01, 0.001, 0.0001],\n",
    "              'kernel': ['rbf']} \n",
    "  \n",
    "grid = GridSearchCV(SVC(), param_grid, refit = True, verbose = False)\n",
    "\n",
    "grid.fit(X_train, y_train)\n",
    "\n",
    "print(grid.best_params_)\n",
    "print(grid.best_estimator_)"
   ]
  },
  {
   "cell_type": "code",
   "execution_count": 59,
   "id": "reported-marriage",
   "metadata": {
    "execution": {
     "iopub.execute_input": "2021-05-19T13:59:31.688537Z",
     "iopub.status.busy": "2021-05-19T13:59:31.687816Z",
     "iopub.status.idle": "2021-05-19T13:59:31.738015Z",
     "shell.execute_reply": "2021-05-19T13:59:31.737571Z"
    },
    "papermill": {
     "duration": 0.130445,
     "end_time": "2021-05-19T13:59:31.738146",
     "exception": false,
     "start_time": "2021-05-19T13:59:31.607701",
     "status": "completed"
    },
    "tags": []
   },
   "outputs": [
    {
     "name": "stdout",
     "output_type": "stream",
     "text": [
      "0.8633540372670807\n",
      "0.13664596273291926\n",
      "              precision    recall  f1-score   support\n",
      "\n",
      "           0       0.91      0.89      0.90       108\n",
      "           1       0.78      0.81      0.80        53\n",
      "\n",
      "    accuracy                           0.86       161\n",
      "   macro avg       0.84      0.85      0.85       161\n",
      "weighted avg       0.86      0.86      0.86       161\n",
      "\n",
      "[[96 12]\n",
      " [10 43]]\n"
     ]
    }
   ],
   "source": [
    "svc=SVC(C= 100, gamma= 0.01,kernel= 'rbf')\n",
    "svc.fit(X_train,y_train)\n",
    "predictions=svc.predict(X_test)\n",
    "acc=accuracy_score(y_test,predictions)\n",
    "print(acc)\n",
    "mae=mean_absolute_error(y_test,predictions)\n",
    "print(mae)\n",
    "print(classification_report(y_test,predictions))\n",
    "print(confusion_matrix(y_test,predictions))"
   ]
  },
  {
   "cell_type": "code",
   "execution_count": 60,
   "id": "faced-newman",
   "metadata": {
    "execution": {
     "iopub.execute_input": "2021-05-19T13:59:31.894636Z",
     "iopub.status.busy": "2021-05-19T13:59:31.893954Z",
     "iopub.status.idle": "2021-05-19T13:59:32.146859Z",
     "shell.execute_reply": "2021-05-19T13:59:32.146249Z"
    },
    "papermill": {
     "duration": 0.333581,
     "end_time": "2021-05-19T13:59:32.146993",
     "exception": false,
     "start_time": "2021-05-19T13:59:31.813412",
     "status": "completed"
    },
    "tags": []
   },
   "outputs": [
    {
     "name": "stdout",
     "output_type": "stream",
     "text": [
      "0.8198757763975155\n",
      "0.18012422360248448\n",
      "              precision    recall  f1-score   support\n",
      "\n",
      "           0       0.89      0.83      0.86       108\n",
      "           1       0.70      0.79      0.74        53\n",
      "\n",
      "    accuracy                           0.82       161\n",
      "   macro avg       0.80      0.81      0.80       161\n",
      "weighted avg       0.83      0.82      0.82       161\n",
      "\n",
      "[[90 18]\n",
      " [11 42]]\n"
     ]
    }
   ],
   "source": [
    "#Random Forest Classifier\n",
    "from sklearn.ensemble import RandomForestClassifier\n",
    "rfc=RandomForestClassifier(random_state=0,max_features='log2',criterion='gini',\n",
    "                                 n_estimators=100)\n",
    "rfc.fit(X_train,y_train)\n",
    "predictions=rfc.predict(X_test)\n",
    "acc=accuracy_score(y_test,predictions)\n",
    "print(acc)\n",
    "mae=mean_absolute_error(y_test,predictions)\n",
    "print(mae)\n",
    "print(classification_report(y_test,predictions))\n",
    "print(confusion_matrix(y_test,predictions))"
   ]
  },
  {
   "cell_type": "code",
   "execution_count": 61,
   "id": "wireless-valentine",
   "metadata": {
    "execution": {
     "iopub.execute_input": "2021-05-19T13:59:32.365341Z",
     "iopub.status.busy": "2021-05-19T13:59:32.364023Z",
     "iopub.status.idle": "2021-05-19T13:59:47.004851Z",
     "shell.execute_reply": "2021-05-19T13:59:47.005222Z"
    },
    "papermill": {
     "duration": 14.752841,
     "end_time": "2021-05-19T13:59:47.005394",
     "exception": false,
     "start_time": "2021-05-19T13:59:32.252553",
     "status": "completed"
    },
    "tags": []
   },
   "outputs": [
    {
     "name": "stdout",
     "output_type": "stream",
     "text": [
      "{'criterion': 'gini', 'max_features': 'log2', 'n_estimators': 110}\n",
      "RandomForestClassifier(max_features='log2', n_estimators=110)\n"
     ]
    }
   ],
   "source": [
    "#Using GridSearch for RFC \n",
    "param_grid = {\n",
    "    'criterion' : ['gini', 'entropy'],\n",
    "     'n_estimators': [90,100,110],\n",
    "    'max_features' : ['auto', 'sqrt', 'log2'],\n",
    "             } \n",
    "  \n",
    "grid = GridSearchCV(RandomForestClassifier(), param_grid, refit = True, verbose = False)\n",
    "\n",
    "grid.fit(X_train, y_train)\n",
    "\n",
    "print(grid.best_params_)\n",
    "print(grid.best_estimator_)"
   ]
  },
  {
   "cell_type": "code",
   "execution_count": 62,
   "id": "sunrise-indonesia",
   "metadata": {
    "execution": {
     "iopub.execute_input": "2021-05-19T13:59:47.156850Z",
     "iopub.status.busy": "2021-05-19T13:59:47.156350Z",
     "iopub.status.idle": "2021-05-19T13:59:47.328492Z",
     "shell.execute_reply": "2021-05-19T13:59:47.328838Z"
    },
    "papermill": {
     "duration": 0.250856,
     "end_time": "2021-05-19T13:59:47.328972",
     "exception": false,
     "start_time": "2021-05-19T13:59:47.078116",
     "status": "completed"
    },
    "tags": []
   },
   "outputs": [
    {
     "name": "stdout",
     "output_type": "stream",
     "text": [
      "0.8198757763975155\n",
      "0.18012422360248448\n"
     ]
    }
   ],
   "source": [
    "rfc=RandomForestClassifier(random_state=0,max_features='log2',criterion='gini',\n",
    "                                 n_estimators=100)\n",
    "rfc.fit(X_train,y_train)\n",
    "predictions=rfc.predict(X_test)\n",
    "acc=accuracy_score(y_test,predictions)\n",
    "print(acc)\n",
    "mae=mean_absolute_error(y_test,predictions)\n",
    "print(mae)"
   ]
  },
  {
   "cell_type": "code",
   "execution_count": 63,
   "id": "static-premises",
   "metadata": {
    "execution": {
     "iopub.execute_input": "2021-05-19T13:59:47.477235Z",
     "iopub.status.busy": "2021-05-19T13:59:47.476780Z",
     "iopub.status.idle": "2021-05-19T13:59:47.667764Z",
     "shell.execute_reply": "2021-05-19T13:59:47.668276Z"
    },
    "papermill": {
     "duration": 0.267633,
     "end_time": "2021-05-19T13:59:47.668443",
     "exception": false,
     "start_time": "2021-05-19T13:59:47.400810",
     "status": "completed"
    },
    "tags": []
   },
   "outputs": [
    {
     "name": "stdout",
     "output_type": "stream",
     "text": [
      "0.8509316770186336\n",
      "              precision    recall  f1-score   support\n",
      "\n",
      "           0       0.90      0.87      0.89       108\n",
      "           1       0.75      0.81      0.78        53\n",
      "\n",
      "    accuracy                           0.85       161\n",
      "   macro avg       0.83      0.84      0.83       161\n",
      "weighted avg       0.85      0.85      0.85       161\n",
      "\n",
      "[[94 14]\n",
      " [10 43]]\n"
     ]
    },
    {
     "name": "stderr",
     "output_type": "stream",
     "text": [
      "/opt/conda/lib/python3.7/site-packages/xgboost/data.py:114: UserWarning: Use subset (sliced data) of np.ndarray is not recommended because it will generate extra copies and increase memory consumption\n",
      "  \"because it will generate extra copies and increase \" +\n"
     ]
    }
   ],
   "source": [
    "# XGB Classifier\n",
    "from xgboost import XGBClassifier\n",
    "xgbc=XGBClassifier(n_estimators=90,learning_rate=0.1,random_state=0,gamma=0.1,\n",
    "                   eval_metric='logloss',use_label_encoder=False)\n",
    "xgbc.fit(X_train, y_train, \n",
    "             early_stopping_rounds=5, \n",
    "             eval_set=[(X_test, y_test)], \n",
    "             verbose=False)\n",
    "predictions=xgbc.predict(X_test)\n",
    "acc=accuracy_score(y_test,predictions)\n",
    "print(acc)\n",
    "print(classification_report(y_test,predictions))\n",
    "print(confusion_matrix(y_test,predictions))"
   ]
  },
  {
   "cell_type": "code",
   "execution_count": 64,
   "id": "reserved-seating",
   "metadata": {
    "execution": {
     "iopub.execute_input": "2021-05-19T13:59:47.818792Z",
     "iopub.status.busy": "2021-05-19T13:59:47.817158Z",
     "iopub.status.idle": "2021-05-19T13:59:57.759773Z",
     "shell.execute_reply": "2021-05-19T13:59:57.760335Z"
    },
    "papermill": {
     "duration": 10.019873,
     "end_time": "2021-05-19T13:59:57.760516",
     "exception": false,
     "start_time": "2021-05-19T13:59:47.740643",
     "status": "completed"
    },
    "scrolled": true,
    "tags": []
   },
   "outputs": [
    {
     "name": "stderr",
     "output_type": "stream",
     "text": [
      "/opt/conda/lib/python3.7/site-packages/xgboost/data.py:114: UserWarning: Use subset (sliced data) of np.ndarray is not recommended because it will generate extra copies and increase memory consumption\n",
      "  \"because it will generate extra copies and increase \" +\n",
      "/opt/conda/lib/python3.7/site-packages/xgboost/data.py:114: UserWarning: Use subset (sliced data) of np.ndarray is not recommended because it will generate extra copies and increase memory consumption\n",
      "  \"because it will generate extra copies and increase \" +\n",
      "/opt/conda/lib/python3.7/site-packages/xgboost/data.py:114: UserWarning: Use subset (sliced data) of np.ndarray is not recommended because it will generate extra copies and increase memory consumption\n",
      "  \"because it will generate extra copies and increase \" +\n",
      "/opt/conda/lib/python3.7/site-packages/xgboost/data.py:114: UserWarning: Use subset (sliced data) of np.ndarray is not recommended because it will generate extra copies and increase memory consumption\n",
      "  \"because it will generate extra copies and increase \" +\n",
      "/opt/conda/lib/python3.7/site-packages/xgboost/data.py:114: UserWarning: Use subset (sliced data) of np.ndarray is not recommended because it will generate extra copies and increase memory consumption\n",
      "  \"because it will generate extra copies and increase \" +\n",
      "/opt/conda/lib/python3.7/site-packages/xgboost/data.py:114: UserWarning: Use subset (sliced data) of np.ndarray is not recommended because it will generate extra copies and increase memory consumption\n",
      "  \"because it will generate extra copies and increase \" +\n",
      "/opt/conda/lib/python3.7/site-packages/xgboost/data.py:114: UserWarning: Use subset (sliced data) of np.ndarray is not recommended because it will generate extra copies and increase memory consumption\n",
      "  \"because it will generate extra copies and increase \" +\n",
      "/opt/conda/lib/python3.7/site-packages/xgboost/data.py:114: UserWarning: Use subset (sliced data) of np.ndarray is not recommended because it will generate extra copies and increase memory consumption\n",
      "  \"because it will generate extra copies and increase \" +\n",
      "/opt/conda/lib/python3.7/site-packages/xgboost/data.py:114: UserWarning: Use subset (sliced data) of np.ndarray is not recommended because it will generate extra copies and increase memory consumption\n",
      "  \"because it will generate extra copies and increase \" +\n",
      "/opt/conda/lib/python3.7/site-packages/xgboost/data.py:114: UserWarning: Use subset (sliced data) of np.ndarray is not recommended because it will generate extra copies and increase memory consumption\n",
      "  \"because it will generate extra copies and increase \" +\n",
      "/opt/conda/lib/python3.7/site-packages/xgboost/data.py:114: UserWarning: Use subset (sliced data) of np.ndarray is not recommended because it will generate extra copies and increase memory consumption\n",
      "  \"because it will generate extra copies and increase \" +\n",
      "/opt/conda/lib/python3.7/site-packages/xgboost/data.py:114: UserWarning: Use subset (sliced data) of np.ndarray is not recommended because it will generate extra copies and increase memory consumption\n",
      "  \"because it will generate extra copies and increase \" +\n",
      "/opt/conda/lib/python3.7/site-packages/xgboost/data.py:114: UserWarning: Use subset (sliced data) of np.ndarray is not recommended because it will generate extra copies and increase memory consumption\n",
      "  \"because it will generate extra copies and increase \" +\n",
      "/opt/conda/lib/python3.7/site-packages/xgboost/data.py:114: UserWarning: Use subset (sliced data) of np.ndarray is not recommended because it will generate extra copies and increase memory consumption\n",
      "  \"because it will generate extra copies and increase \" +\n",
      "/opt/conda/lib/python3.7/site-packages/xgboost/data.py:114: UserWarning: Use subset (sliced data) of np.ndarray is not recommended because it will generate extra copies and increase memory consumption\n",
      "  \"because it will generate extra copies and increase \" +\n",
      "/opt/conda/lib/python3.7/site-packages/xgboost/data.py:114: UserWarning: Use subset (sliced data) of np.ndarray is not recommended because it will generate extra copies and increase memory consumption\n",
      "  \"because it will generate extra copies and increase \" +\n",
      "/opt/conda/lib/python3.7/site-packages/xgboost/data.py:114: UserWarning: Use subset (sliced data) of np.ndarray is not recommended because it will generate extra copies and increase memory consumption\n",
      "  \"because it will generate extra copies and increase \" +\n",
      "/opt/conda/lib/python3.7/site-packages/xgboost/data.py:114: UserWarning: Use subset (sliced data) of np.ndarray is not recommended because it will generate extra copies and increase memory consumption\n",
      "  \"because it will generate extra copies and increase \" +\n",
      "/opt/conda/lib/python3.7/site-packages/xgboost/data.py:114: UserWarning: Use subset (sliced data) of np.ndarray is not recommended because it will generate extra copies and increase memory consumption\n",
      "  \"because it will generate extra copies and increase \" +\n",
      "/opt/conda/lib/python3.7/site-packages/xgboost/data.py:114: UserWarning: Use subset (sliced data) of np.ndarray is not recommended because it will generate extra copies and increase memory consumption\n",
      "  \"because it will generate extra copies and increase \" +\n",
      "/opt/conda/lib/python3.7/site-packages/xgboost/data.py:114: UserWarning: Use subset (sliced data) of np.ndarray is not recommended because it will generate extra copies and increase memory consumption\n",
      "  \"because it will generate extra copies and increase \" +\n",
      "/opt/conda/lib/python3.7/site-packages/xgboost/data.py:114: UserWarning: Use subset (sliced data) of np.ndarray is not recommended because it will generate extra copies and increase memory consumption\n",
      "  \"because it will generate extra copies and increase \" +\n",
      "/opt/conda/lib/python3.7/site-packages/xgboost/data.py:114: UserWarning: Use subset (sliced data) of np.ndarray is not recommended because it will generate extra copies and increase memory consumption\n",
      "  \"because it will generate extra copies and increase \" +\n",
      "/opt/conda/lib/python3.7/site-packages/xgboost/data.py:114: UserWarning: Use subset (sliced data) of np.ndarray is not recommended because it will generate extra copies and increase memory consumption\n",
      "  \"because it will generate extra copies and increase \" +\n",
      "/opt/conda/lib/python3.7/site-packages/xgboost/data.py:114: UserWarning: Use subset (sliced data) of np.ndarray is not recommended because it will generate extra copies and increase memory consumption\n",
      "  \"because it will generate extra copies and increase \" +\n",
      "/opt/conda/lib/python3.7/site-packages/xgboost/data.py:114: UserWarning: Use subset (sliced data) of np.ndarray is not recommended because it will generate extra copies and increase memory consumption\n",
      "  \"because it will generate extra copies and increase \" +\n",
      "/opt/conda/lib/python3.7/site-packages/xgboost/data.py:114: UserWarning: Use subset (sliced data) of np.ndarray is not recommended because it will generate extra copies and increase memory consumption\n",
      "  \"because it will generate extra copies and increase \" +\n",
      "/opt/conda/lib/python3.7/site-packages/xgboost/data.py:114: UserWarning: Use subset (sliced data) of np.ndarray is not recommended because it will generate extra copies and increase memory consumption\n",
      "  \"because it will generate extra copies and increase \" +\n",
      "/opt/conda/lib/python3.7/site-packages/xgboost/data.py:114: UserWarning: Use subset (sliced data) of np.ndarray is not recommended because it will generate extra copies and increase memory consumption\n",
      "  \"because it will generate extra copies and increase \" +\n",
      "/opt/conda/lib/python3.7/site-packages/xgboost/data.py:114: UserWarning: Use subset (sliced data) of np.ndarray is not recommended because it will generate extra copies and increase memory consumption\n",
      "  \"because it will generate extra copies and increase \" +\n",
      "/opt/conda/lib/python3.7/site-packages/xgboost/data.py:114: UserWarning: Use subset (sliced data) of np.ndarray is not recommended because it will generate extra copies and increase memory consumption\n",
      "  \"because it will generate extra copies and increase \" +\n",
      "/opt/conda/lib/python3.7/site-packages/xgboost/data.py:114: UserWarning: Use subset (sliced data) of np.ndarray is not recommended because it will generate extra copies and increase memory consumption\n",
      "  \"because it will generate extra copies and increase \" +\n",
      "/opt/conda/lib/python3.7/site-packages/xgboost/data.py:114: UserWarning: Use subset (sliced data) of np.ndarray is not recommended because it will generate extra copies and increase memory consumption\n",
      "  \"because it will generate extra copies and increase \" +\n",
      "/opt/conda/lib/python3.7/site-packages/xgboost/data.py:114: UserWarning: Use subset (sliced data) of np.ndarray is not recommended because it will generate extra copies and increase memory consumption\n",
      "  \"because it will generate extra copies and increase \" +\n",
      "/opt/conda/lib/python3.7/site-packages/xgboost/data.py:114: UserWarning: Use subset (sliced data) of np.ndarray is not recommended because it will generate extra copies and increase memory consumption\n",
      "  \"because it will generate extra copies and increase \" +\n",
      "/opt/conda/lib/python3.7/site-packages/xgboost/data.py:114: UserWarning: Use subset (sliced data) of np.ndarray is not recommended because it will generate extra copies and increase memory consumption\n",
      "  \"because it will generate extra copies and increase \" +\n",
      "/opt/conda/lib/python3.7/site-packages/xgboost/data.py:114: UserWarning: Use subset (sliced data) of np.ndarray is not recommended because it will generate extra copies and increase memory consumption\n",
      "  \"because it will generate extra copies and increase \" +\n",
      "/opt/conda/lib/python3.7/site-packages/xgboost/data.py:114: UserWarning: Use subset (sliced data) of np.ndarray is not recommended because it will generate extra copies and increase memory consumption\n",
      "  \"because it will generate extra copies and increase \" +\n",
      "/opt/conda/lib/python3.7/site-packages/xgboost/data.py:114: UserWarning: Use subset (sliced data) of np.ndarray is not recommended because it will generate extra copies and increase memory consumption\n",
      "  \"because it will generate extra copies and increase \" +\n",
      "/opt/conda/lib/python3.7/site-packages/xgboost/data.py:114: UserWarning: Use subset (sliced data) of np.ndarray is not recommended because it will generate extra copies and increase memory consumption\n",
      "  \"because it will generate extra copies and increase \" +\n",
      "/opt/conda/lib/python3.7/site-packages/xgboost/data.py:114: UserWarning: Use subset (sliced data) of np.ndarray is not recommended because it will generate extra copies and increase memory consumption\n",
      "  \"because it will generate extra copies and increase \" +\n",
      "/opt/conda/lib/python3.7/site-packages/xgboost/data.py:114: UserWarning: Use subset (sliced data) of np.ndarray is not recommended because it will generate extra copies and increase memory consumption\n",
      "  \"because it will generate extra copies and increase \" +\n",
      "/opt/conda/lib/python3.7/site-packages/xgboost/data.py:114: UserWarning: Use subset (sliced data) of np.ndarray is not recommended because it will generate extra copies and increase memory consumption\n",
      "  \"because it will generate extra copies and increase \" +\n",
      "/opt/conda/lib/python3.7/site-packages/xgboost/data.py:114: UserWarning: Use subset (sliced data) of np.ndarray is not recommended because it will generate extra copies and increase memory consumption\n",
      "  \"because it will generate extra copies and increase \" +\n",
      "/opt/conda/lib/python3.7/site-packages/xgboost/data.py:114: UserWarning: Use subset (sliced data) of np.ndarray is not recommended because it will generate extra copies and increase memory consumption\n",
      "  \"because it will generate extra copies and increase \" +\n",
      "/opt/conda/lib/python3.7/site-packages/xgboost/data.py:114: UserWarning: Use subset (sliced data) of np.ndarray is not recommended because it will generate extra copies and increase memory consumption\n",
      "  \"because it will generate extra copies and increase \" +\n",
      "/opt/conda/lib/python3.7/site-packages/xgboost/data.py:114: UserWarning: Use subset (sliced data) of np.ndarray is not recommended because it will generate extra copies and increase memory consumption\n",
      "  \"because it will generate extra copies and increase \" +\n",
      "/opt/conda/lib/python3.7/site-packages/xgboost/data.py:114: UserWarning: Use subset (sliced data) of np.ndarray is not recommended because it will generate extra copies and increase memory consumption\n",
      "  \"because it will generate extra copies and increase \" +\n",
      "/opt/conda/lib/python3.7/site-packages/xgboost/data.py:114: UserWarning: Use subset (sliced data) of np.ndarray is not recommended because it will generate extra copies and increase memory consumption\n",
      "  \"because it will generate extra copies and increase \" +\n",
      "/opt/conda/lib/python3.7/site-packages/xgboost/data.py:114: UserWarning: Use subset (sliced data) of np.ndarray is not recommended because it will generate extra copies and increase memory consumption\n",
      "  \"because it will generate extra copies and increase \" +\n",
      "/opt/conda/lib/python3.7/site-packages/xgboost/data.py:114: UserWarning: Use subset (sliced data) of np.ndarray is not recommended because it will generate extra copies and increase memory consumption\n",
      "  \"because it will generate extra copies and increase \" +\n",
      "/opt/conda/lib/python3.7/site-packages/xgboost/data.py:114: UserWarning: Use subset (sliced data) of np.ndarray is not recommended because it will generate extra copies and increase memory consumption\n",
      "  \"because it will generate extra copies and increase \" +\n",
      "/opt/conda/lib/python3.7/site-packages/xgboost/data.py:114: UserWarning: Use subset (sliced data) of np.ndarray is not recommended because it will generate extra copies and increase memory consumption\n",
      "  \"because it will generate extra copies and increase \" +\n",
      "/opt/conda/lib/python3.7/site-packages/xgboost/data.py:114: UserWarning: Use subset (sliced data) of np.ndarray is not recommended because it will generate extra copies and increase memory consumption\n",
      "  \"because it will generate extra copies and increase \" +\n",
      "/opt/conda/lib/python3.7/site-packages/xgboost/data.py:114: UserWarning: Use subset (sliced data) of np.ndarray is not recommended because it will generate extra copies and increase memory consumption\n",
      "  \"because it will generate extra copies and increase \" +\n",
      "/opt/conda/lib/python3.7/site-packages/xgboost/data.py:114: UserWarning: Use subset (sliced data) of np.ndarray is not recommended because it will generate extra copies and increase memory consumption\n",
      "  \"because it will generate extra copies and increase \" +\n",
      "/opt/conda/lib/python3.7/site-packages/xgboost/data.py:114: UserWarning: Use subset (sliced data) of np.ndarray is not recommended because it will generate extra copies and increase memory consumption\n",
      "  \"because it will generate extra copies and increase \" +\n",
      "/opt/conda/lib/python3.7/site-packages/xgboost/data.py:114: UserWarning: Use subset (sliced data) of np.ndarray is not recommended because it will generate extra copies and increase memory consumption\n",
      "  \"because it will generate extra copies and increase \" +\n",
      "/opt/conda/lib/python3.7/site-packages/xgboost/data.py:114: UserWarning: Use subset (sliced data) of np.ndarray is not recommended because it will generate extra copies and increase memory consumption\n",
      "  \"because it will generate extra copies and increase \" +\n",
      "/opt/conda/lib/python3.7/site-packages/xgboost/data.py:114: UserWarning: Use subset (sliced data) of np.ndarray is not recommended because it will generate extra copies and increase memory consumption\n",
      "  \"because it will generate extra copies and increase \" +\n",
      "/opt/conda/lib/python3.7/site-packages/xgboost/data.py:114: UserWarning: Use subset (sliced data) of np.ndarray is not recommended because it will generate extra copies and increase memory consumption\n",
      "  \"because it will generate extra copies and increase \" +\n",
      "/opt/conda/lib/python3.7/site-packages/xgboost/data.py:114: UserWarning: Use subset (sliced data) of np.ndarray is not recommended because it will generate extra copies and increase memory consumption\n",
      "  \"because it will generate extra copies and increase \" +\n",
      "/opt/conda/lib/python3.7/site-packages/xgboost/data.py:114: UserWarning: Use subset (sliced data) of np.ndarray is not recommended because it will generate extra copies and increase memory consumption\n",
      "  \"because it will generate extra copies and increase \" +\n",
      "/opt/conda/lib/python3.7/site-packages/xgboost/data.py:114: UserWarning: Use subset (sliced data) of np.ndarray is not recommended because it will generate extra copies and increase memory consumption\n",
      "  \"because it will generate extra copies and increase \" +\n",
      "/opt/conda/lib/python3.7/site-packages/xgboost/data.py:114: UserWarning: Use subset (sliced data) of np.ndarray is not recommended because it will generate extra copies and increase memory consumption\n",
      "  \"because it will generate extra copies and increase \" +\n",
      "/opt/conda/lib/python3.7/site-packages/xgboost/data.py:114: UserWarning: Use subset (sliced data) of np.ndarray is not recommended because it will generate extra copies and increase memory consumption\n",
      "  \"because it will generate extra copies and increase \" +\n",
      "/opt/conda/lib/python3.7/site-packages/xgboost/data.py:114: UserWarning: Use subset (sliced data) of np.ndarray is not recommended because it will generate extra copies and increase memory consumption\n",
      "  \"because it will generate extra copies and increase \" +\n",
      "/opt/conda/lib/python3.7/site-packages/xgboost/data.py:114: UserWarning: Use subset (sliced data) of np.ndarray is not recommended because it will generate extra copies and increase memory consumption\n",
      "  \"because it will generate extra copies and increase \" +\n",
      "/opt/conda/lib/python3.7/site-packages/xgboost/data.py:114: UserWarning: Use subset (sliced data) of np.ndarray is not recommended because it will generate extra copies and increase memory consumption\n",
      "  \"because it will generate extra copies and increase \" +\n",
      "/opt/conda/lib/python3.7/site-packages/xgboost/data.py:114: UserWarning: Use subset (sliced data) of np.ndarray is not recommended because it will generate extra copies and increase memory consumption\n",
      "  \"because it will generate extra copies and increase \" +\n",
      "/opt/conda/lib/python3.7/site-packages/xgboost/data.py:114: UserWarning: Use subset (sliced data) of np.ndarray is not recommended because it will generate extra copies and increase memory consumption\n",
      "  \"because it will generate extra copies and increase \" +\n",
      "/opt/conda/lib/python3.7/site-packages/xgboost/data.py:114: UserWarning: Use subset (sliced data) of np.ndarray is not recommended because it will generate extra copies and increase memory consumption\n",
      "  \"because it will generate extra copies and increase \" +\n",
      "/opt/conda/lib/python3.7/site-packages/xgboost/data.py:114: UserWarning: Use subset (sliced data) of np.ndarray is not recommended because it will generate extra copies and increase memory consumption\n",
      "  \"because it will generate extra copies and increase \" +\n",
      "/opt/conda/lib/python3.7/site-packages/xgboost/data.py:114: UserWarning: Use subset (sliced data) of np.ndarray is not recommended because it will generate extra copies and increase memory consumption\n",
      "  \"because it will generate extra copies and increase \" +\n",
      "/opt/conda/lib/python3.7/site-packages/xgboost/data.py:114: UserWarning: Use subset (sliced data) of np.ndarray is not recommended because it will generate extra copies and increase memory consumption\n",
      "  \"because it will generate extra copies and increase \" +\n",
      "/opt/conda/lib/python3.7/site-packages/xgboost/data.py:114: UserWarning: Use subset (sliced data) of np.ndarray is not recommended because it will generate extra copies and increase memory consumption\n",
      "  \"because it will generate extra copies and increase \" +\n",
      "/opt/conda/lib/python3.7/site-packages/xgboost/data.py:114: UserWarning: Use subset (sliced data) of np.ndarray is not recommended because it will generate extra copies and increase memory consumption\n",
      "  \"because it will generate extra copies and increase \" +\n",
      "/opt/conda/lib/python3.7/site-packages/xgboost/data.py:114: UserWarning: Use subset (sliced data) of np.ndarray is not recommended because it will generate extra copies and increase memory consumption\n",
      "  \"because it will generate extra copies and increase \" +\n",
      "/opt/conda/lib/python3.7/site-packages/xgboost/data.py:114: UserWarning: Use subset (sliced data) of np.ndarray is not recommended because it will generate extra copies and increase memory consumption\n",
      "  \"because it will generate extra copies and increase \" +\n",
      "/opt/conda/lib/python3.7/site-packages/xgboost/data.py:114: UserWarning: Use subset (sliced data) of np.ndarray is not recommended because it will generate extra copies and increase memory consumption\n",
      "  \"because it will generate extra copies and increase \" +\n",
      "/opt/conda/lib/python3.7/site-packages/xgboost/data.py:114: UserWarning: Use subset (sliced data) of np.ndarray is not recommended because it will generate extra copies and increase memory consumption\n",
      "  \"because it will generate extra copies and increase \" +\n",
      "/opt/conda/lib/python3.7/site-packages/xgboost/data.py:114: UserWarning: Use subset (sliced data) of np.ndarray is not recommended because it will generate extra copies and increase memory consumption\n",
      "  \"because it will generate extra copies and increase \" +\n",
      "/opt/conda/lib/python3.7/site-packages/xgboost/data.py:114: UserWarning: Use subset (sliced data) of np.ndarray is not recommended because it will generate extra copies and increase memory consumption\n",
      "  \"because it will generate extra copies and increase \" +\n",
      "/opt/conda/lib/python3.7/site-packages/xgboost/data.py:114: UserWarning: Use subset (sliced data) of np.ndarray is not recommended because it will generate extra copies and increase memory consumption\n",
      "  \"because it will generate extra copies and increase \" +\n",
      "/opt/conda/lib/python3.7/site-packages/xgboost/data.py:114: UserWarning: Use subset (sliced data) of np.ndarray is not recommended because it will generate extra copies and increase memory consumption\n",
      "  \"because it will generate extra copies and increase \" +\n",
      "/opt/conda/lib/python3.7/site-packages/xgboost/data.py:114: UserWarning: Use subset (sliced data) of np.ndarray is not recommended because it will generate extra copies and increase memory consumption\n",
      "  \"because it will generate extra copies and increase \" +\n",
      "/opt/conda/lib/python3.7/site-packages/xgboost/data.py:114: UserWarning: Use subset (sliced data) of np.ndarray is not recommended because it will generate extra copies and increase memory consumption\n",
      "  \"because it will generate extra copies and increase \" +\n",
      "/opt/conda/lib/python3.7/site-packages/xgboost/data.py:114: UserWarning: Use subset (sliced data) of np.ndarray is not recommended because it will generate extra copies and increase memory consumption\n",
      "  \"because it will generate extra copies and increase \" +\n",
      "/opt/conda/lib/python3.7/site-packages/xgboost/data.py:114: UserWarning: Use subset (sliced data) of np.ndarray is not recommended because it will generate extra copies and increase memory consumption\n",
      "  \"because it will generate extra copies and increase \" +\n",
      "/opt/conda/lib/python3.7/site-packages/xgboost/data.py:114: UserWarning: Use subset (sliced data) of np.ndarray is not recommended because it will generate extra copies and increase memory consumption\n",
      "  \"because it will generate extra copies and increase \" +\n",
      "/opt/conda/lib/python3.7/site-packages/xgboost/data.py:114: UserWarning: Use subset (sliced data) of np.ndarray is not recommended because it will generate extra copies and increase memory consumption\n",
      "  \"because it will generate extra copies and increase \" +\n",
      "/opt/conda/lib/python3.7/site-packages/xgboost/data.py:114: UserWarning: Use subset (sliced data) of np.ndarray is not recommended because it will generate extra copies and increase memory consumption\n",
      "  \"because it will generate extra copies and increase \" +\n",
      "/opt/conda/lib/python3.7/site-packages/xgboost/data.py:114: UserWarning: Use subset (sliced data) of np.ndarray is not recommended because it will generate extra copies and increase memory consumption\n",
      "  \"because it will generate extra copies and increase \" +\n",
      "/opt/conda/lib/python3.7/site-packages/xgboost/data.py:114: UserWarning: Use subset (sliced data) of np.ndarray is not recommended because it will generate extra copies and increase memory consumption\n",
      "  \"because it will generate extra copies and increase \" +\n",
      "/opt/conda/lib/python3.7/site-packages/xgboost/data.py:114: UserWarning: Use subset (sliced data) of np.ndarray is not recommended because it will generate extra copies and increase memory consumption\n",
      "  \"because it will generate extra copies and increase \" +\n",
      "/opt/conda/lib/python3.7/site-packages/xgboost/data.py:114: UserWarning: Use subset (sliced data) of np.ndarray is not recommended because it will generate extra copies and increase memory consumption\n",
      "  \"because it will generate extra copies and increase \" +\n",
      "/opt/conda/lib/python3.7/site-packages/xgboost/data.py:114: UserWarning: Use subset (sliced data) of np.ndarray is not recommended because it will generate extra copies and increase memory consumption\n",
      "  \"because it will generate extra copies and increase \" +\n",
      "/opt/conda/lib/python3.7/site-packages/xgboost/data.py:114: UserWarning: Use subset (sliced data) of np.ndarray is not recommended because it will generate extra copies and increase memory consumption\n",
      "  \"because it will generate extra copies and increase \" +\n",
      "/opt/conda/lib/python3.7/site-packages/xgboost/data.py:114: UserWarning: Use subset (sliced data) of np.ndarray is not recommended because it will generate extra copies and increase memory consumption\n",
      "  \"because it will generate extra copies and increase \" +\n",
      "/opt/conda/lib/python3.7/site-packages/xgboost/data.py:114: UserWarning: Use subset (sliced data) of np.ndarray is not recommended because it will generate extra copies and increase memory consumption\n",
      "  \"because it will generate extra copies and increase \" +\n",
      "/opt/conda/lib/python3.7/site-packages/xgboost/data.py:114: UserWarning: Use subset (sliced data) of np.ndarray is not recommended because it will generate extra copies and increase memory consumption\n",
      "  \"because it will generate extra copies and increase \" +\n",
      "/opt/conda/lib/python3.7/site-packages/xgboost/data.py:114: UserWarning: Use subset (sliced data) of np.ndarray is not recommended because it will generate extra copies and increase memory consumption\n",
      "  \"because it will generate extra copies and increase \" +\n",
      "/opt/conda/lib/python3.7/site-packages/xgboost/data.py:114: UserWarning: Use subset (sliced data) of np.ndarray is not recommended because it will generate extra copies and increase memory consumption\n",
      "  \"because it will generate extra copies and increase \" +\n",
      "/opt/conda/lib/python3.7/site-packages/xgboost/data.py:114: UserWarning: Use subset (sliced data) of np.ndarray is not recommended because it will generate extra copies and increase memory consumption\n",
      "  \"because it will generate extra copies and increase \" +\n",
      "/opt/conda/lib/python3.7/site-packages/xgboost/data.py:114: UserWarning: Use subset (sliced data) of np.ndarray is not recommended because it will generate extra copies and increase memory consumption\n",
      "  \"because it will generate extra copies and increase \" +\n",
      "/opt/conda/lib/python3.7/site-packages/xgboost/data.py:114: UserWarning: Use subset (sliced data) of np.ndarray is not recommended because it will generate extra copies and increase memory consumption\n",
      "  \"because it will generate extra copies and increase \" +\n",
      "/opt/conda/lib/python3.7/site-packages/xgboost/data.py:114: UserWarning: Use subset (sliced data) of np.ndarray is not recommended because it will generate extra copies and increase memory consumption\n",
      "  \"because it will generate extra copies and increase \" +\n",
      "/opt/conda/lib/python3.7/site-packages/xgboost/data.py:114: UserWarning: Use subset (sliced data) of np.ndarray is not recommended because it will generate extra copies and increase memory consumption\n",
      "  \"because it will generate extra copies and increase \" +\n",
      "/opt/conda/lib/python3.7/site-packages/xgboost/data.py:114: UserWarning: Use subset (sliced data) of np.ndarray is not recommended because it will generate extra copies and increase memory consumption\n",
      "  \"because it will generate extra copies and increase \" +\n",
      "/opt/conda/lib/python3.7/site-packages/xgboost/data.py:114: UserWarning: Use subset (sliced data) of np.ndarray is not recommended because it will generate extra copies and increase memory consumption\n",
      "  \"because it will generate extra copies and increase \" +\n",
      "/opt/conda/lib/python3.7/site-packages/xgboost/data.py:114: UserWarning: Use subset (sliced data) of np.ndarray is not recommended because it will generate extra copies and increase memory consumption\n",
      "  \"because it will generate extra copies and increase \" +\n",
      "/opt/conda/lib/python3.7/site-packages/xgboost/data.py:114: UserWarning: Use subset (sliced data) of np.ndarray is not recommended because it will generate extra copies and increase memory consumption\n",
      "  \"because it will generate extra copies and increase \" +\n",
      "/opt/conda/lib/python3.7/site-packages/xgboost/data.py:114: UserWarning: Use subset (sliced data) of np.ndarray is not recommended because it will generate extra copies and increase memory consumption\n",
      "  \"because it will generate extra copies and increase \" +\n",
      "/opt/conda/lib/python3.7/site-packages/xgboost/data.py:114: UserWarning: Use subset (sliced data) of np.ndarray is not recommended because it will generate extra copies and increase memory consumption\n",
      "  \"because it will generate extra copies and increase \" +\n",
      "/opt/conda/lib/python3.7/site-packages/xgboost/data.py:114: UserWarning: Use subset (sliced data) of np.ndarray is not recommended because it will generate extra copies and increase memory consumption\n",
      "  \"because it will generate extra copies and increase \" +\n",
      "/opt/conda/lib/python3.7/site-packages/xgboost/data.py:114: UserWarning: Use subset (sliced data) of np.ndarray is not recommended because it will generate extra copies and increase memory consumption\n",
      "  \"because it will generate extra copies and increase \" +\n",
      "/opt/conda/lib/python3.7/site-packages/xgboost/data.py:114: UserWarning: Use subset (sliced data) of np.ndarray is not recommended because it will generate extra copies and increase memory consumption\n",
      "  \"because it will generate extra copies and increase \" +\n",
      "/opt/conda/lib/python3.7/site-packages/xgboost/data.py:114: UserWarning: Use subset (sliced data) of np.ndarray is not recommended because it will generate extra copies and increase memory consumption\n",
      "  \"because it will generate extra copies and increase \" +\n",
      "/opt/conda/lib/python3.7/site-packages/xgboost/data.py:114: UserWarning: Use subset (sliced data) of np.ndarray is not recommended because it will generate extra copies and increase memory consumption\n",
      "  \"because it will generate extra copies and increase \" +\n",
      "/opt/conda/lib/python3.7/site-packages/xgboost/data.py:114: UserWarning: Use subset (sliced data) of np.ndarray is not recommended because it will generate extra copies and increase memory consumption\n",
      "  \"because it will generate extra copies and increase \" +\n",
      "/opt/conda/lib/python3.7/site-packages/xgboost/data.py:114: UserWarning: Use subset (sliced data) of np.ndarray is not recommended because it will generate extra copies and increase memory consumption\n",
      "  \"because it will generate extra copies and increase \" +\n",
      "/opt/conda/lib/python3.7/site-packages/xgboost/data.py:114: UserWarning: Use subset (sliced data) of np.ndarray is not recommended because it will generate extra copies and increase memory consumption\n",
      "  \"because it will generate extra copies and increase \" +\n",
      "/opt/conda/lib/python3.7/site-packages/xgboost/data.py:114: UserWarning: Use subset (sliced data) of np.ndarray is not recommended because it will generate extra copies and increase memory consumption\n",
      "  \"because it will generate extra copies and increase \" +\n",
      "/opt/conda/lib/python3.7/site-packages/xgboost/data.py:114: UserWarning: Use subset (sliced data) of np.ndarray is not recommended because it will generate extra copies and increase memory consumption\n",
      "  \"because it will generate extra copies and increase \" +\n",
      "/opt/conda/lib/python3.7/site-packages/xgboost/data.py:114: UserWarning: Use subset (sliced data) of np.ndarray is not recommended because it will generate extra copies and increase memory consumption\n",
      "  \"because it will generate extra copies and increase \" +\n",
      "/opt/conda/lib/python3.7/site-packages/xgboost/data.py:114: UserWarning: Use subset (sliced data) of np.ndarray is not recommended because it will generate extra copies and increase memory consumption\n",
      "  \"because it will generate extra copies and increase \" +\n",
      "/opt/conda/lib/python3.7/site-packages/xgboost/data.py:114: UserWarning: Use subset (sliced data) of np.ndarray is not recommended because it will generate extra copies and increase memory consumption\n",
      "  \"because it will generate extra copies and increase \" +\n",
      "/opt/conda/lib/python3.7/site-packages/xgboost/data.py:114: UserWarning: Use subset (sliced data) of np.ndarray is not recommended because it will generate extra copies and increase memory consumption\n",
      "  \"because it will generate extra copies and increase \" +\n",
      "/opt/conda/lib/python3.7/site-packages/xgboost/data.py:114: UserWarning: Use subset (sliced data) of np.ndarray is not recommended because it will generate extra copies and increase memory consumption\n",
      "  \"because it will generate extra copies and increase \" +\n",
      "/opt/conda/lib/python3.7/site-packages/xgboost/data.py:114: UserWarning: Use subset (sliced data) of np.ndarray is not recommended because it will generate extra copies and increase memory consumption\n",
      "  \"because it will generate extra copies and increase \" +\n",
      "/opt/conda/lib/python3.7/site-packages/xgboost/data.py:114: UserWarning: Use subset (sliced data) of np.ndarray is not recommended because it will generate extra copies and increase memory consumption\n",
      "  \"because it will generate extra copies and increase \" +\n",
      "/opt/conda/lib/python3.7/site-packages/xgboost/data.py:114: UserWarning: Use subset (sliced data) of np.ndarray is not recommended because it will generate extra copies and increase memory consumption\n",
      "  \"because it will generate extra copies and increase \" +\n",
      "/opt/conda/lib/python3.7/site-packages/xgboost/data.py:114: UserWarning: Use subset (sliced data) of np.ndarray is not recommended because it will generate extra copies and increase memory consumption\n",
      "  \"because it will generate extra copies and increase \" +\n",
      "/opt/conda/lib/python3.7/site-packages/xgboost/data.py:114: UserWarning: Use subset (sliced data) of np.ndarray is not recommended because it will generate extra copies and increase memory consumption\n",
      "  \"because it will generate extra copies and increase \" +\n"
     ]
    },
    {
     "name": "stdout",
     "output_type": "stream",
     "text": [
      "{'gamma': 0.1, 'learning_rate': 0.1, 'n_estimators': 90}\n",
      "XGBClassifier(base_score=0.5, booster='gbtree', colsample_bylevel=1,\n",
      "              colsample_bynode=1, colsample_bytree=1, eval_metric='logloss',\n",
      "              gamma=0.1, gpu_id=-1, importance_type='gain',\n",
      "              interaction_constraints='', learning_rate=0.1, max_delta_step=0,\n",
      "              max_depth=6, min_child_weight=1, missing=nan,\n",
      "              monotone_constraints='()', n_estimators=90, n_jobs=4,\n",
      "              num_parallel_tree=1, random_state=0, reg_alpha=0, reg_lambda=1,\n",
      "              scale_pos_weight=1, subsample=1, tree_method='exact',\n",
      "              use_label_encoder=False, validate_parameters=1, verbosity=None)\n"
     ]
    },
    {
     "name": "stderr",
     "output_type": "stream",
     "text": [
      "/opt/conda/lib/python3.7/site-packages/xgboost/data.py:114: UserWarning: Use subset (sliced data) of np.ndarray is not recommended because it will generate extra copies and increase memory consumption\n",
      "  \"because it will generate extra copies and increase \" +\n"
     ]
    }
   ],
   "source": [
    "#Using GridSearch for XGBC \n",
    "param_grid = {'learning_rate': [0.1,0.01,0.5], \n",
    "              'n_estimators': [90,100,110],\n",
    "              'gamma': [ 1,0.1, 0.01]\n",
    "             } \n",
    "  \n",
    "grid = GridSearchCV(XGBClassifier(use_label_encoder=False,eval_metric='logloss'), param_grid, refit = True,\n",
    "                    verbose = False)\n",
    "  \n",
    "\n",
    "grid.fit(X_train, y_train)\n",
    "\n",
    "print(grid.best_params_)\n",
    "print(grid.best_estimator_)"
   ]
  },
  {
   "cell_type": "code",
   "execution_count": 65,
   "id": "relative-thanksgiving",
   "metadata": {
    "execution": {
     "iopub.execute_input": "2021-05-19T13:59:58.013731Z",
     "iopub.status.busy": "2021-05-19T13:59:58.013071Z",
     "iopub.status.idle": "2021-05-19T13:59:58.078753Z",
     "shell.execute_reply": "2021-05-19T13:59:58.079418Z"
    },
    "papermill": {
     "duration": 0.193653,
     "end_time": "2021-05-19T13:59:58.079592",
     "exception": false,
     "start_time": "2021-05-19T13:59:57.885939",
     "status": "completed"
    },
    "tags": []
   },
   "outputs": [
    {
     "name": "stdout",
     "output_type": "stream",
     "text": [
      "0.8509316770186336\n",
      "0.14906832298136646\n"
     ]
    },
    {
     "name": "stderr",
     "output_type": "stream",
     "text": [
      "/opt/conda/lib/python3.7/site-packages/xgboost/data.py:114: UserWarning: Use subset (sliced data) of np.ndarray is not recommended because it will generate extra copies and increase memory consumption\n",
      "  \"because it will generate extra copies and increase \" +\n"
     ]
    }
   ],
   "source": [
    "xgbc=XGBClassifier(n_estimators=90,learning_rate=0.1,random_state=0,gamma=0.1,\n",
    "                   eval_metric='logloss',use_label_encoder=False)\n",
    "xgbc.fit(X_train, y_train, \n",
    "             early_stopping_rounds=5, \n",
    "             eval_set=[(X_test, y_test)], \n",
    "             verbose=False)\n",
    "predictions=xgbc.predict(X_test)\n",
    "acc=accuracy_score(y_test,predictions)\n",
    "print(acc)\n",
    "mae=mean_absolute_error(y_test,predictions)\n",
    "print(mae)"
   ]
  },
  {
   "cell_type": "code",
   "execution_count": 66,
   "id": "thick-blake",
   "metadata": {
    "execution": {
     "iopub.execute_input": "2021-05-19T13:59:58.336498Z",
     "iopub.status.busy": "2021-05-19T13:59:58.335844Z",
     "iopub.status.idle": "2021-05-19T13:59:58.454102Z",
     "shell.execute_reply": "2021-05-19T13:59:58.454516Z"
    },
    "papermill": {
     "duration": 0.251227,
     "end_time": "2021-05-19T13:59:58.454647",
     "exception": false,
     "start_time": "2021-05-19T13:59:58.203420",
     "status": "completed"
    },
    "tags": []
   },
   "outputs": [
    {
     "name": "stdout",
     "output_type": "stream",
     "text": [
      "0.8385093167701864\n",
      "              precision    recall  f1-score   support\n",
      "\n",
      "           0       0.89      0.86      0.88       108\n",
      "           1       0.74      0.79      0.76        53\n",
      "\n",
      "    accuracy                           0.84       161\n",
      "   macro avg       0.82      0.83      0.82       161\n",
      "weighted avg       0.84      0.84      0.84       161\n",
      "\n",
      "[[93 15]\n",
      " [11 42]]\n",
      "0.16149068322981366\n"
     ]
    }
   ],
   "source": [
    "#Gradient Boosting Classifier \n",
    "from sklearn.ensemble import GradientBoostingClassifier\n",
    "gbc=GradientBoostingClassifier(random_state=0,learning_rate= 0.05, max_depth= 4, n_estimators= 100)\n",
    "gbc.fit(X_train,y_train)\n",
    "predictions=gbc.predict(X_test)\n",
    "acc=accuracy_score(y_test,predictions)\n",
    "print(acc)\n",
    "print(classification_report(y_test,predictions))\n",
    "print(confusion_matrix(y_test,predictions))\n",
    "mae=mean_absolute_error(y_test,predictions)\n",
    "print(mae)"
   ]
  },
  {
   "cell_type": "code",
   "execution_count": 67,
   "id": "better-stand",
   "metadata": {
    "execution": {
     "iopub.execute_input": "2021-05-19T13:59:58.631921Z",
     "iopub.status.busy": "2021-05-19T13:59:58.631241Z",
     "iopub.status.idle": "2021-05-19T14:00:21.886030Z",
     "shell.execute_reply": "2021-05-19T14:00:21.885487Z"
    },
    "papermill": {
     "duration": 23.345507,
     "end_time": "2021-05-19T14:00:21.886185",
     "exception": false,
     "start_time": "2021-05-19T13:59:58.540678",
     "status": "completed"
    },
    "tags": []
   },
   "outputs": [
    {
     "name": "stdout",
     "output_type": "stream",
     "text": [
      "{'learning_rate': 0.05, 'max_depth': 4, 'n_estimators': 100}\n",
      "GradientBoostingClassifier(learning_rate=0.05, max_depth=4)\n"
     ]
    }
   ],
   "source": [
    "#Using GridSearch for GBC\n",
    "param_grid = {'learning_rate': [0.1,0.05,0.5], \n",
    "              'n_estimators': [90,100,500],\n",
    "              'max_depth':[2,3,4],\n",
    "             } \n",
    "  \n",
    "grid = GridSearchCV(GradientBoostingClassifier(), param_grid, refit = True, verbose = False)\n",
    "\n",
    "grid.fit(X_train, y_train)\n",
    "\n",
    "print(grid.best_params_)\n",
    "print(grid.best_estimator_)"
   ]
  },
  {
   "cell_type": "code",
   "execution_count": 68,
   "id": "broken-static",
   "metadata": {
    "execution": {
     "iopub.execute_input": "2021-05-19T14:00:22.149829Z",
     "iopub.status.busy": "2021-05-19T14:00:22.149282Z",
     "iopub.status.idle": "2021-05-19T14:00:22.168074Z",
     "shell.execute_reply": "2021-05-19T14:00:22.167529Z"
    },
    "papermill": {
     "duration": 0.151397,
     "end_time": "2021-05-19T14:00:22.168199",
     "exception": false,
     "start_time": "2021-05-19T14:00:22.016802",
     "status": "completed"
    },
    "tags": []
   },
   "outputs": [
    {
     "name": "stdout",
     "output_type": "stream",
     "text": [
      "[0 1 0 0 1 0 1 0 1 0 0 0 1 0 1 1 0 0 1 0 0 1 1 0 1 0 1 0 0 0 0 0 1 1 0 0 1\n",
      " 1 0 0 0 0 0 1 1 0 0 0 1 1 0 0 1 1 0 0 0 0 0 1 0 0 0 1 1 1 1 0 0 1 1 0 1 0\n",
      " 1 0 0 1 0 1 1 0 0 0 0 0 1 1 1 1 1 0 1 0 0 0 0 0 1 0 1 0 0 0 1 0 0 0 0 0 0\n",
      " 1 1 1 1 0 0 1 0 1 1 0 1 0 0 1 0 1 0 0 0 0 1 0 0 0 0 0 1 0 0 1 1 0 0 0 0 0\n",
      " 0 0 1 0 0 1 0 0 1 1 0 1 1 1 1 0 0 1 0 0 1 1 0 0 0 0 0 1 1 0 1 1 0 0 1 0 1\n",
      " 0 1 0 0 0 0 0 0 0 1 0 1 1 0 1 1 1 0 1 0 0 1 0 1 0 0 0 0 1 1 0 1 0 1 0 1 0\n",
      " 1 0 1 1 0 1 0 0 0 1 0 0 0 0 1 0 1 1 1 0 0 0 1 0 1 0 1 1 1 0 0 0 0 0 0 0 1\n",
      " 0 0 0 1 1 0 0 0 0 1 0 0 0 1 1 0 1 0 0 0 0 1 1 1 1 1 0 0 0 0 0 0 1 0 0 0 0\n",
      " 1 0 0 0 0 0 0 0 1 1 0 1 0 1 0 0 0 1 1 1 0 0 0 0 0 0 0 0 1 0 1 0 0 0 1 0 0\n",
      " 1 0 0 0 0 0 1 0 0 1 1 1 1 0 1 0 1 1 0 0 0 0 0 1 0 0 1 0 1 1 0 1 1 0 1 1 0\n",
      " 0 1 0 0 1 1 0 0 0 0 0 0 1 1 0 1 0 0 0 0 0 1 0 0 0 1 0 1 0 0 1 0 1 0 0 0 0\n",
      " 0 1 1 1 1 1 0 1 0 0 1]\n"
     ]
    }
   ],
   "source": [
    "# Implementing SVC\n",
    "preds_test=svc.predict(titanic_test)\n",
    "print(preds_test)\n",
    "output = pd.DataFrame({'PassengerId': titanic_test.index,\n",
    "                       'Survived': preds_test})\n",
    "output.to_csv('submissions.csv', index=False)"
   ]
  }
 ],
 "metadata": {
  "kernelspec": {
   "display_name": "Python 3",
   "language": "python",
   "name": "python3"
  },
  "language_info": {
   "codemirror_mode": {
    "name": "ipython",
    "version": 3
   },
   "file_extension": ".py",
   "mimetype": "text/x-python",
   "name": "python",
   "nbconvert_exporter": "python",
   "pygments_lexer": "ipython3",
   "version": "3.8.8"
  },
  "papermill": {
   "default_parameters": {},
   "duration": 76.133639,
   "end_time": "2021-05-19T14:00:23.266125",
   "environment_variables": {},
   "exception": null,
   "input_path": "__notebook__.ipynb",
   "output_path": "__notebook__.ipynb",
   "parameters": {},
   "start_time": "2021-05-19T13:59:07.132486",
   "version": "2.3.3"
  }
 },
 "nbformat": 4,
 "nbformat_minor": 5
}
